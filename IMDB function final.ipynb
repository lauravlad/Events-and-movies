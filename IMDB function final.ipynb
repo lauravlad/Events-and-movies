{
 "cells": [
  {
   "cell_type": "code",
   "execution_count": 4,
   "metadata": {},
   "outputs": [],
   "source": [
    "# Import necessary packages\n",
    "import requests\n",
    "import urllib.request\n",
    "import time\n",
    "from bs4 import BeautifulSoup\n",
    "import numpy as np\n",
    "import pandas as pd\n",
    "from urllib.request import urlopen\n",
    "import matplotlib.pyplot as plt\n",
    "%matplotlib inline"
   ]
  },
  {
   "cell_type": "code",
   "execution_count": 5,
   "metadata": {},
   "outputs": [],
   "source": [
    "#Works\n",
    "def get_IMDB_names(url):\n",
    "    rn = requests.get(url)\n",
    "    soup = BeautifulSoup(rn.text, 'html.parser')\n",
    "    movie_containers = soup.find_all('div', class_ = 'lister-item mode-advanced')\n",
    "    names = []\n",
    "    for container in movie_containers:\n",
    "# Extract:\n",
    "# The name\n",
    "        name = container.select('img')[0]['alt']\n",
    "        names.append(name)\n",
    "    return names\n",
    "#get_IMDB_names('https://www.imdb.com/search/title/?title_type=feature&release_date=1980-01-01,2019-12-31&user_rating=7.0,10.0&countries=us&count=250')"
   ]
  },
  {
   "cell_type": "code",
   "execution_count": 6,
   "metadata": {},
   "outputs": [],
   "source": [
    "#Works\n",
    "def get_IMDB_years(url):\n",
    "    ry = requests.get(url)\n",
    "    soup = BeautifulSoup(ry.text, 'html.parser')\n",
    "    movie_containers = soup.find_all('div', class_ = 'lister-item mode-advanced')\n",
    "    years = []\n",
    "    for container in movie_containers:\n",
    "        # The year\n",
    "        year = container.find('span', class_ = 'lister-item-year').text\n",
    "        year = str(year)\n",
    "        years.append(year)\n",
    "        year = str(year)\n",
    "        year = year[1:5]\n",
    "    return years\n",
    "#get_IMDB_years('https://www.imdb.com/search/title/?title_type=feature&release_date=1980-01-01,2019-12-31&user_rating=7.0,10.0&countries=us&count=250')"
   ]
  },
  {
   "cell_type": "code",
   "execution_count": 7,
   "metadata": {},
   "outputs": [],
   "source": [
    "#Works\n",
    "def get_IMDB_genres(url):\n",
    "    rg = requests.get(url)\n",
    "    soup = BeautifulSoup(rg.text, 'html.parser')\n",
    "    movie_containers = soup.find_all('div', class_ = 'lister-item mode-advanced')\n",
    "    genres =[] \n",
    "    for container in movie_containers:\n",
    "        genre_container = container.find('p')\n",
    "        genre = genre_container.find('span', class_='genre')\n",
    "        #genre = genre.text\n",
    "        #genre = str(genre)\n",
    "        #genre = genre[1:]\n",
    "        genres.append(genre)\n",
    "    return genres\n",
    "#get_IMDB_genres('https://www.imdb.com/search/title/?title_type=feature&release_date=1980-01-01,2019-12-31&user_rating=7.0,10.0&countries=us&count=250&start=2001&ref_=adv_nxt')"
   ]
  },
  {
   "cell_type": "code",
   "execution_count": 8,
   "metadata": {},
   "outputs": [],
   "source": [
    "def get_IMDB_table(url):\n",
    "    names = get_IMDB_names(url)\n",
    "    years = get_IMDB_years(url)\n",
    "    genres = get_IMDB_genres(url)\n",
    "    initial_df = pd.DataFrame({'name': names, 'year' : years, 'genre': genres})\n",
    "    return initial_df\n",
    "#get_IMDB_table('https://www.imdb.com/search/title/?title_type=feature&release_date=1980-01-01,2019-12-31&user_rating=7.0,10.0&countries=us&count=250')"
   ]
  },
  {
   "cell_type": "markdown",
   "metadata": {
    "scrolled": true
   },
   "source": [
    "url1 ='https://www.imdb.com/search/title/?title_type=feature&release_date=1980-01-01,2019-12-31&user_rating=7.0,10.0&countries=us&count=250'\n",
    "url2 ='https://www.imdb.com/search/title/?title_type=feature&release_date=1980-01-01,2019-12-31&user_rating=7.0,10.0&countries=us&count=250&start=251&ref_=adv_nxt'\n",
    "url3 ='https://www.imdb.com/search/title/?title_type=feature&release_date=1980-01-01,2019-12-31&user_rating=7.0,10.0&countries=us&count=250&start=501&ref_=adv_nxt'\n",
    "url4 ='https://www.imdb.com/search/title/?title_type=feature&release_date=1980-01-01,2019-12-31&user_rating=7.0,10.0&countries=us&count=250&start=751&ref_=adv_nxt'\n",
    "url5 ='https://www.imdb.com/search/title/?title_type=feature&release_date=1980-01-01,2019-12-31&user_rating=7.0,10.0&countries=us&count=250&start=1001&ref_=adv_nxt'\n",
    "url6 ='https://www.imdb.com/search/title/?title_type=feature&release_date=1980-01-01,2019-12-31&user_rating=7.0,10.0&countries=us&count=250&start=1251&ref_=adv_nxt'\n",
    "url7 ='https://www.imdb.com/search/title/?title_type=feature&release_date=1980-01-01,2019-12-31&user_rating=7.0,10.0&countries=us&count=250&start=1501&ref_=adv_nxt'\n",
    "url8 ='https://www.imdb.com/search/title/?title_type=feature&release_date=1980-01-01,2019-12-31&user_rating=7.0,10.0&countries=us&count=250&start=1751&ref_=adv_nxt'\n",
    "url9='https://www.imdb.com/search/title/?title_type=feature&release_date=1980-01-01,2019-12-31&user_rating=7.0,10.0&countries=us&count=250&start=2001&ref_=adv_nxt'\n",
    "url10 ='https://www.imdb.com/search/title/?title_type=feature&release_date=1980-01-01,2019-12-31&user_rating=7.0,10.0&countries=us&count=250&start=2251&ref_=adv_nxt'\n",
    "url11 ='https://www.imdb.com/search/title/?title_type=feature&release_date=1980-01-01,2019-12-31&user_rating=7.0,10.0&countries=us&count=250&start=2501&ref_=adv_nxt'\n",
    "url12='https://www.imdb.com/search/title/?title_type=feature&release_date=1980-01-01,2019-12-31&user_rating=7.0,10.0&countries=us&count=250&start=2751&ref_=adv_nxt'\n",
    "url13='https://www.imdb.com/search/title/?title_type=feature&release_date=1980-01-01,2019-12-31&user_rating=7.0,10.0&countries=us&count=250&start=3001&ref_=adv_nxt'\n",
    "url14='https://www.imdb.com/search/title/?title_type=feature&release_date=1980-01-01,2019-12-31&user_rating=7.0,10.0&countries=us&count=250&start=3251&ref_=adv_nxt'\n",
    "url15='https://www.imdb.com/search/title/?title_type=feature&release_date=1980-01-01,2019-12-31&user_rating=7.0,10.0&countries=us&count=250&start=3501&ref_=adv_nxt'\n",
    "url16='https://www.imdb.com/search/title/?title_type=feature&release_date=1980-01-01,2019-12-31&user_rating=7.0,10.0&countries=us&count=250&start=3751&ref_=adv_nxt'\n",
    "url17='https://www.imdb.com/search/title/?title_type=feature&release_date=1980-01-01,2019-12-31&user_rating=7.0,10.0&countries=us&count=250&start=4001&ref_=adv_nxt'\n",
    "url18='https://www.imdb.com/search/title/?title_type=feature&release_date=1980-01-01,2019-12-31&user_rating=7.0,10.0&countries=us&count=250&start=4251&ref_=adv_nxt'\n",
    "url19='https://www.imdb.com/search/title/?title_type=feature&release_date=1980-01-01,2019-12-31&user_rating=7.0,10.0&countries=us&count=250&start=4501&ref_=adv_nxt'\n",
    "url20='https://www.imdb.com/search/title/?title_type=feature&release_date=1980-01-01,2019-12-31&user_rating=7.0,10.0&countries=us&count=250&start=4751&ref_=adv_nxt'\n",
    "url21='https://www.imdb.com/search/title/?title_type=feature&release_date=1980-01-01,2019-12-31&user_rating=7.0,10.0&countries=us&count=250&start=5001&ref_=adv_nxt'\n",
    "url22='https://www.imdb.com/search/title/?title_type=feature&release_date=1980-01-01,2019-12-31&user_rating=7.0,10.0&countries=us&count=250&start=5251&ref_=adv_nxt'\n",
    "url23='https://www.imdb.com/search/title/?title_type=feature&release_date=1980-01-01,2019-12-31&user_rating=7.0,10.0&countries=us&count=250&start=5501&ref_=adv_nxt'\n",
    "url24='https://www.imdb.com/search/title/?title_type=feature&release_date=1980-01-01,2019-12-31&user_rating=7.0,10.0&countries=us&count=250&start=5751&ref_=adv_nxt'\n",
    "url25='https://www.imdb.com/search/title/?title_type=feature&release_date=1980-01-01,2019-12-31&user_rating=7.0,10.0&countries=us&count=250&start=6001&ref_=adv_nxt'\n",
    "url26='https://www.imdb.com/search/title/?title_type=feature&release_date=1980-01-01,2019-12-31&user_rating=7.0,10.0&countries=us&count=250&start=6251&ref_=adv_nxt'\n",
    "url27='https://www.imdb.com/search/title/?title_type=feature&release_date=1980-01-01,2019-12-31&user_rating=7.0,10.0&countries=us&count=250&start=6501&ref_=adv_nxt'\n",
    "url28='https://www.imdb.com/search/title/?title_type=feature&release_date=1980-01-01,2019-12-31&user_rating=7.0,10.0&countries=us&count=250&start=6751&ref_=adv_nxt'\n",
    "url29='https://www.imdb.com/search/title/?title_type=feature&release_date=1980-01-01,2019-12-31&user_rating=7.0,10.0&countries=us&count=250&start=7001&ref_=adv_nxt'\n",
    "url30='https://www.imdb.com/search/title/?title_type=feature&release_date=1980-01-01,2019-12-31&user_rating=7.0,10.0&countries=us&count=250&start=7251&ref_=adv_nxt'\n",
    "url31='https://www.imdb.com/search/title/?title_type=feature&release_date=1980-01-01,2019-12-31&user_rating=7.0,10.0&countries=us&count=250&start=7501&ref_=adv_nxt'\n",
    "url32='https://www.imdb.com/search/title/?title_type=feature&release_date=1980-01-01,2019-12-31&user_rating=7.0,10.0&countries=us&count=250&start=7751&ref_=adv_nxt'\n",
    "url33='https://www.imdb.com/search/title/?title_type=feature&release_date=1980-01-01,2019-12-31&user_rating=7.0,10.0&countries=us&count=250&start=8001&ref_=adv_nxt'\n",
    "url34='https://www.imdb.com/search/title/?title_type=feature&release_date=1980-01-01,2019-12-31&user_rating=7.0,10.0&countries=us&count=250&start=8251&ref_=adv_nxt'\n",
    "url35='https://www.imdb.com/search/title/?title_type=feature&release_date=1980-01-01,2019-12-31&user_rating=7.0,10.0&countries=us&count=250&start=8501&ref_=adv_nxt'\n",
    "url36='https://www.imdb.com/search/title/?title_type=feature&release_date=1980-01-01,2019-12-31&user_rating=7.0,10.0&countries=us&count=250&start=8751&ref_=adv_nxt'\n",
    "url37='https://www.imdb.com/search/title/?title_type=feature&release_date=1980-01-01,2019-12-31&user_rating=7.0,10.0&countries=us&count=250&start=9001&ref_=adv_nxt'\n",
    "url38='https://www.imdb.com/search/title/?title_type=feature&release_date=1980-01-01,2019-12-31&user_rating=7.0,10.0&countries=us&count=250&start=9251&ref_=adv_nxt'\n",
    "url_list=[url1, url2, url3, url4, url5, url6, url7, url8, url9, url10, url11, url12, url13, url14, url15, url16, url17, url18, url19, url20, url21, url22, url23, url24, url25, url26, url27, url28, url29,\n",
    "         url30,url31,url32,url33,url34,url35,url36,url37,url38]\n",
    "\n"
   ]
  },
  {
   "cell_type": "code",
   "execution_count": 9,
   "metadata": {},
   "outputs": [],
   "source": [
    "list_url_top250=[]\n",
    "for year in [*range(1980, 2020,1)]:\n",
    "    url = 'https://www.imdb.com/search/title/?release_date='+ str(year) + '-01-01,' + str(year) + '-12-31&user_rating=1.0,10.0&countries=us&sort=user_rating,desc&count=250'\n",
    "    list_url_top250.append(url)\n",
    "#print(list_url_top250)"
   ]
  },
  {
   "cell_type": "code",
   "execution_count": 12,
   "metadata": {},
   "outputs": [
    {
     "data": {
      "text/plain": [
       "10000"
      ]
     },
     "execution_count": 12,
     "metadata": {},
     "output_type": "execute_result"
    }
   ],
   "source": [
    "pieces = []\n",
    "for url in list_url_top250:\n",
    "    part_df = get_IMDB_table(url)\n",
    "    pieces.append(part_df)\n",
    "df_all = pd.concat(pieces)\n",
    "df_all.to_csv('top250IMDB1980_2019.csv', index=False, header= True)\n",
    "len(df_all)"
   ]
  },
  {
   "cell_type": "code",
   "execution_count": 11,
   "metadata": {},
   "outputs": [
    {
     "ename": "NameError",
     "evalue": "name 'url1' is not defined",
     "output_type": "error",
     "traceback": [
      "\u001b[0;31m---------------------------------------------------------------------------\u001b[0m",
      "\u001b[0;31mNameError\u001b[0m                                 Traceback (most recent call last)",
      "\u001b[0;32m<ipython-input-11-9cbc3c5ec990>\u001b[0m in \u001b[0;36m<module>\u001b[0;34m\u001b[0m\n\u001b[0;32m----> 1\u001b[0;31m \u001b[0mdf1\u001b[0m \u001b[0;34m=\u001b[0m \u001b[0mget_IMDB_table\u001b[0m\u001b[0;34m(\u001b[0m\u001b[0murl1\u001b[0m\u001b[0;34m)\u001b[0m\u001b[0;34m\u001b[0m\u001b[0;34m\u001b[0m\u001b[0m\n\u001b[0m\u001b[1;32m      2\u001b[0m \u001b[0mdf1\u001b[0m\u001b[0;34m.\u001b[0m\u001b[0mhead\u001b[0m\u001b[0;34m(\u001b[0m\u001b[0;34m)\u001b[0m\u001b[0;34m\u001b[0m\u001b[0;34m\u001b[0m\u001b[0m\n",
      "\u001b[0;31mNameError\u001b[0m: name 'url1' is not defined"
     ]
    }
   ],
   "source": [
    "df1 = get_IMDB_table(url1)\n",
    "df1.head()"
   ]
  },
  {
   "cell_type": "code",
   "execution_count": null,
   "metadata": {},
   "outputs": [],
   "source": []
  }
 ],
 "metadata": {
  "kernelspec": {
   "display_name": "Python [conda env:learn-env] *",
   "language": "python",
   "name": "conda-env-learn-env-py"
  },
  "language_info": {
   "codemirror_mode": {
    "name": "ipython",
    "version": 3
   },
   "file_extension": ".py",
   "mimetype": "text/x-python",
   "name": "python",
   "nbconvert_exporter": "python",
   "pygments_lexer": "ipython3",
   "version": "3.6.9"
  }
 },
 "nbformat": 4,
 "nbformat_minor": 2
}

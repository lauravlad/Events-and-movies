{
 "cells": [
  {
   "cell_type": "code",
   "execution_count": 2,
   "metadata": {},
   "outputs": [],
   "source": [
    "# Import necessary packages\n",
    "import requests\n",
    "import urllib.request\n",
    "import time\n",
    "from bs4 import BeautifulSoup\n",
    "import numpy as np\n",
    "import pandas as pd\n",
    "from urllib.request import urlopen\n",
    "import matplotlib.pyplot as plt\n",
    "%matplotlib inline\n",
    "import seaborn as sns"
   ]
  },
  {
   "cell_type": "code",
   "execution_count": 3,
   "metadata": {
    "scrolled": true
   },
   "outputs": [],
   "source": [
    "list_of_genres = ['children', 'fantasy', 'magical', 'mystery', 'action', 'crime', 'drama', 'science fiction', 'adventure', 'biography', 'comedy', 'thriller', 'musical', 'western', 'romance', 'animation', 'war', 'horror', 'sport', 'political', 'saga', ' satire', 'social']"
   ]
  },
  {
   "cell_type": "code",
   "execution_count": 4,
   "metadata": {},
   "outputs": [],
   "source": [
    "#Works\n",
    "def get_IMDB_names(url):\n",
    "    rn = requests.get(url)\n",
    "    soup = BeautifulSoup(rn.text, 'html.parser')\n",
    "    movie_containers = soup.find_all('div', class_ = 'lister-item mode-advanced')\n",
    "    names = []\n",
    "    for container in movie_containers:\n",
    "# Extract:\n",
    "# The name\n",
    "        name = container.select('img')[0]['alt']\n",
    "        names.append(name)\n",
    "    return names"
   ]
  },
  {
   "cell_type": "code",
   "execution_count": 5,
   "metadata": {},
   "outputs": [],
   "source": [
    "def get_IMDB_years(url):\n",
    "    ry = requests.get(url)\n",
    "    soup = BeautifulSoup(ry.text, 'html.parser')\n",
    "    movie_containers = soup.find_all('div', class_ = 'lister-item mode-advanced')\n",
    "    years = []\n",
    "    for container in movie_containers:\n",
    "        # The year\n",
    "        year = container.find('span', class_ = 'lister-item-year').text\n",
    "        year = str(year)\n",
    "        years.append(year)\n",
    "        year = str(year)\n",
    "        year = year[1:5]\n",
    "    return years"
   ]
  },
  {
   "cell_type": "code",
   "execution_count": 6,
   "metadata": {},
   "outputs": [],
   "source": [
    "def get_IMDB_genres(url):\n",
    "    rg = requests.get(url)\n",
    "    soup = BeautifulSoup(rg.text, 'html.parser')\n",
    "    movie_containers = soup.find_all('div', class_ = 'lister-item mode-advanced')\n",
    "    genres =[] \n",
    "    for container in movie_containers:\n",
    "        genre_container = container.find('p')\n",
    "        genre = genre_container.find('span', class_='genre')\n",
    "        #genre = genre.text\n",
    "        #genre = str(genre)\n",
    "        #genre = genre[1:]\n",
    "        genres.append(genre)\n",
    "    return genres"
   ]
  },
  {
   "cell_type": "code",
   "execution_count": 8,
   "metadata": {
    "scrolled": false
   },
   "outputs": [
    {
     "data": {
      "text/html": [
       "<div>\n",
       "<style scoped>\n",
       "    .dataframe tbody tr th:only-of-type {\n",
       "        vertical-align: middle;\n",
       "    }\n",
       "\n",
       "    .dataframe tbody tr th {\n",
       "        vertical-align: top;\n",
       "    }\n",
       "\n",
       "    .dataframe thead th {\n",
       "        text-align: right;\n",
       "    }\n",
       "</style>\n",
       "<table border=\"1\" class=\"dataframe\">\n",
       "  <thead>\n",
       "    <tr style=\"text-align: right;\">\n",
       "      <th></th>\n",
       "      <th>Genres</th>\n",
       "      <th>Year</th>\n",
       "    </tr>\n",
       "  </thead>\n",
       "  <tbody>\n",
       "    <tr>\n",
       "      <td>0</td>\n",
       "      <td>thriller</td>\n",
       "      <td>2</td>\n",
       "    </tr>\n",
       "    <tr>\n",
       "      <td>1</td>\n",
       "      <td>horror</td>\n",
       "      <td>2</td>\n",
       "    </tr>\n",
       "    <tr>\n",
       "      <td>2</td>\n",
       "      <td>adventure</td>\n",
       "      <td>27</td>\n",
       "    </tr>\n",
       "    <tr>\n",
       "      <td>3</td>\n",
       "      <td>drama</td>\n",
       "      <td>87</td>\n",
       "    </tr>\n",
       "    <tr>\n",
       "      <td>4</td>\n",
       "      <td>comedy</td>\n",
       "      <td>108</td>\n",
       "    </tr>\n",
       "    <tr>\n",
       "      <td>5</td>\n",
       "      <td>action</td>\n",
       "      <td>18</td>\n",
       "    </tr>\n",
       "    <tr>\n",
       "      <td>6</td>\n",
       "      <td>crime</td>\n",
       "      <td>7</td>\n",
       "    </tr>\n",
       "    <tr>\n",
       "      <td>7</td>\n",
       "      <td>mystery</td>\n",
       "      <td>3</td>\n",
       "    </tr>\n",
       "    <tr>\n",
       "      <td>8</td>\n",
       "      <td>sport</td>\n",
       "      <td>3</td>\n",
       "    </tr>\n",
       "    <tr>\n",
       "      <td>9</td>\n",
       "      <td>romance</td>\n",
       "      <td>16</td>\n",
       "    </tr>\n",
       "    <tr>\n",
       "      <td>10</td>\n",
       "      <td>war</td>\n",
       "      <td>9</td>\n",
       "    </tr>\n",
       "    <tr>\n",
       "      <td>11</td>\n",
       "      <td>fantasy</td>\n",
       "      <td>4</td>\n",
       "    </tr>\n",
       "    <tr>\n",
       "      <td>12</td>\n",
       "      <td>musical</td>\n",
       "      <td>2</td>\n",
       "    </tr>\n",
       "    <tr>\n",
       "      <td>13</td>\n",
       "      <td>biography</td>\n",
       "      <td>6</td>\n",
       "    </tr>\n",
       "    <tr>\n",
       "      <td>14</td>\n",
       "      <td>animation</td>\n",
       "      <td>3</td>\n",
       "    </tr>\n",
       "  </tbody>\n",
       "</table>\n",
       "</div>"
      ],
      "text/plain": [
       "       Genres  Year\n",
       "0    thriller     2\n",
       "1      horror     2\n",
       "2   adventure    27\n",
       "3       drama    87\n",
       "4      comedy   108\n",
       "5      action    18\n",
       "6       crime     7\n",
       "7     mystery     3\n",
       "8       sport     3\n",
       "9     romance    16\n",
       "10        war     9\n",
       "11    fantasy     4\n",
       "12    musical     2\n",
       "13  biography     6\n",
       "14  animation     3"
      ]
     },
     "execution_count": 8,
     "metadata": {},
     "output_type": "execute_result"
    }
   ],
   "source": [
    "#function that will get the violence grade for a year\n",
    "def get_IMDB_table(year):\n",
    "    url = 'https://www.imdb.com/search/title/?release_date='+ str(year) + '-01-01,' + str(year) + '-12-31&user_rating=1.0,10.0&countries=us&sort=user_rating,desc&count=250'\n",
    "    names = get_IMDB_names(url)\n",
    "    #years = get_IMDB_years(url)\n",
    "    genres = get_IMDB_genres(url)\n",
    "    initial_df = pd.DataFrame({'name': names, 'genre': genres})\n",
    "    #turn BS elements into strings\n",
    "    initial_df['genre']=initial_df['genre'].map(lambda x: str(x))\n",
    "    # add a year column             \n",
    "    years = [year]*len(initial_df)\n",
    "    initial_df['year'] = years\n",
    "    #create a list with all the genres from the \"Genres\" column and lower the case of each element\n",
    "    list_year_1 = initial_df['genre'].to_list()\n",
    "    lower_list = [x.lower() for x in list_year_1]\n",
    "    #separate the genres where a movie has two or more genres\n",
    "    list_final = [x.split() for x in lower_list]\n",
    "    list_year = []\n",
    "    for sublist in list_final:\n",
    "        for item in sublist:\n",
    "            if item == '<span':\n",
    "                continue\n",
    "            elif item == 'class=\"genre\">':\n",
    "                continue\n",
    "            elif item == '</span>':\n",
    "                continue\n",
    "            else:\n",
    "                list_year.append(item)\n",
    "    #some genres have comma attached, take off comma\n",
    "            list_year_no_comma = []\n",
    "            for item in list_year:\n",
    "                if ',' in item:\n",
    "                        list_year_no_comma.append(item[:-1])\n",
    "                else:\n",
    "                            list_year_no_comma.append(item)\n",
    "    #return list_year_no_comma\n",
    "    # Create a dictionary key- genres, value = number of movies of a certain genre\n",
    "    genre_counts = {}\n",
    "# Iterate through genre list\n",
    "    for genre in list_year_no_comma:\n",
    "# Update word counts - keep only genres in the general list of genres\n",
    "        if genre in list_of_genres:\n",
    "            genre_counts[genre] = genre_counts.get(genre, 0) + 1 #Get previous entry, update by 1\n",
    "        else:\n",
    "            continue\n",
    "#Set 'Genres' as df index\n",
    "    df_to_plot = pd.DataFrame(genre_counts.items(), columns=['Genres', 'Year'])\n",
    "    #return df_to_plot\n",
    "    df_to_plot.set_index('Genres')\n",
    "    return df_to_plot\n",
    "# Join the the 2 Dataframes on 'Genres' column and replace NANs with mean value.\n",
    "    #Zeitgeist_df = war_grades_df.join(df_to_plot.set_index('Genres'), on='Genres')\n",
    "    #Zeitgeist_df = Zeitgeist_df.fillna(5)\n",
    "#Create a column year_war_grade \n",
    "    #Zeitgeist_df['year_war_grade'] = Zeitgeist_df['Grade']*Zeitgeist_df['Year']\n",
    "# Add a year column\n",
    "    #year = year\n",
    "    #years_final = [year]*len(Zeitgeist_df)\n",
    "    #Zeitgeist_df['Year'] = years_final\n",
    "    #del Zeitgeist_df['Grade']\n",
    "           \n",
    "    #return Zeitgeist_df\n",
    "#Zeitgeist1980 = get_table_after_1996(1980)\n",
    "#Zeitgeist1980\n",
    "get_IMDB_table(1980)"
   ]
  },
  {
   "cell_type": "code",
   "execution_count": null,
   "metadata": {},
   "outputs": [],
   "source": [
    "pieces = []\n",
    "for year in [*range(1980, 2020,1)]:\n",
    "    df_year = get_table(year)\n",
    "    pieces.append(df_year)\n",
    "df_all = pd.concat(pieces)\n",
    "df_all\n",
    "df_all.to_csv('IMDB_genres_1980_2019.csv', index=False, header= True)    \n"
   ]
  },
  {
   "cell_type": "code",
   "execution_count": null,
   "metadata": {},
   "outputs": [],
   "source": [
    "grouped = df_all.groupby(['Year'])['year_war_grade'].sum()\n",
    "grouped.to_csv('grouped_war_grade_IMDB.csv', index='Year', header=True)"
   ]
  },
  {
   "cell_type": "code",
   "execution_count": null,
   "metadata": {},
   "outputs": [],
   "source": []
  },
  {
   "cell_type": "code",
   "execution_count": null,
   "metadata": {},
   "outputs": [],
   "source": []
  },
  {
   "cell_type": "code",
   "execution_count": 100,
   "metadata": {},
   "outputs": [],
   "source": [
    "#Works\n",
    "#function that will create an url when you input the year\n",
    "def gen_url(year):\n",
    "    url = 'https://www.imdb.com/search/title/?release_date='+ str(year) + '-01-01,' + str(year) + '-12-31&user_rating=1.0,10.0&countries=us&sort=user_rating,desc&count=250'\n",
    "    return url"
   ]
  },
  {
   "cell_type": "code",
   "execution_count": 101,
   "metadata": {
    "scrolled": true
   },
   "outputs": [],
   "source": [
    "x = gen_url(1980)"
   ]
  },
  {
   "cell_type": "code",
   "execution_count": 104,
   "metadata": {},
   "outputs": [
    {
     "data": {
      "text/plain": [
       "str"
      ]
     },
     "execution_count": 104,
     "metadata": {},
     "output_type": "execute_result"
    }
   ],
   "source": [
    "df = get_IMDB_table(x)\n",
    "df.head()\n",
    "type(df.genre[0])\n"
   ]
  },
  {
   "cell_type": "code",
   "execution_count": 95,
   "metadata": {},
   "outputs": [
    {
     "data": {
      "text/plain": [
       "0       <span class=\"genre\">\\nMusic            </span>\n",
       "1    <span class=\"genre\">\\nShort, Thriller         ...\n",
       "2    <span class=\"genre\">\\nShort, Horror           ...\n",
       "3       <span class=\"genre\">\\nMusic            </span>\n",
       "4    <span class=\"genre\">\\nAdventure, Drama, Family...\n",
       "Name: genre, dtype: object"
      ]
     },
     "execution_count": 95,
     "metadata": {},
     "output_type": "execute_result"
    }
   ],
   "source": [
    "#turn objects in genre column into strings\n",
    "#df.genre[0] = df.genre[0].text\n",
    "df['genre']=df['genre'].map(lambda x: str(x))\n",
    "#df['genre']= df['genre'].map(lambda x: x[20:-7])\n",
    "df['genre'].head()\n",
    "#df.genre[0]=df.genre[0][20:-7]"
   ]
  },
  {
   "cell_type": "markdown",
   "metadata": {},
   "source": [
    "#Function that will scrape a wikipedia page with a list of movies by year, add the year as a new column and return \n",
    "# a data frame.\n",
    "\n",
    "def get_table(year):\n",
    "    url = 'https://www.imdb.com/search/title/?release_date='+ str(year) + '-01-01,' + str(year) + '-12-31&user_rating=1.0,10.0&countries=us&sort=user_rating,desc&count=250'\n",
    "    df = get_IMDB_table(url)\n",
    "    return df.head()\n",
    "# add a year column             \n",
    "    #years = [year]*len(df)\n",
    "    #df['Year'] = years\n",
    "#create a list with all the genres from the \"Genres\" column and lower the case of each element\n",
    "    #list_year_1 = df['genres'].to_list()\n",
    "    #lower_list = [x.lower() for x in list_year_1]\n",
    "#separate the genres where a movie has two or more genres\n",
    "    #list_final = [x.split() for x in lower_list]\n",
    "    #list_year = []\n",
    "    #for sublist in list_final:\n",
    "        #for item in sublist:\n",
    "            #list_year.append(item)  \n",
    "#some genres have comma attached, take off comma\n",
    "    #list_year_no_comma = []\n",
    "    #for item in list_year:\n",
    "        #if ',' in item:\n",
    "         #               list_year_no_comma.append(item[:-1])\n",
    "        #else:\n",
    "        #                    list_year_no_comma.append(item)\n",
    "#print(list_year_no_comma)\n",
    "# Create a dictionary key- genres, value = number of movies of a certain genre\n",
    "        #genre_counts = {}\n",
    "# Iterate through genre list\n",
    "        #for genre in list_year_no_comma:\n",
    "# Update word counts - keep only genres in the general list of genres\n",
    "            #if genre in list_of_genres:\n",
    "                #genre_counts[genre] = genre_counts.get(genre, 0) + 1 #Get previous entry, update by 1\n",
    "            #else:\n",
    "                #continue\n",
    "#Set 'Genres' as df index\n",
    "        #df_to_plot = pd.DataFrame(genre_counts.items(), columns=['Genres', 'year_1999'])\n",
    "        #df_to_plot.set_index('Genres')\n",
    "# Join the the 2 Dataframes on 'Genres' column and replace NANs with mean value.\n",
    "        #Zeitgeist_df1 = war_grades_df.join(df_to_plot.set_index('Genres'), on='Genres')\n",
    "        #Zeitgeist_df1 = Zeitgeist_df1.fillna(5)\n",
    "#Create a column year_war_grade \n",
    "        #Zeitgeist_df1['year_war_grade'] = Zeitgeist_df1['Grade']*Zeitgeist_df1['year_1999']\n",
    "            #Zeitgeist_df1\n",
    "# Add a year column\n",
    "            #year = 1999\n",
    "        #years_final = [year]*len(Zeitgeist_df1)\n",
    "        #Zeitgeist_df1['Year'] = years_final\n",
    "           \n",
    "    #return Zeitgeist_df1\n",
    "#Zeitgeist1981 = get_table_after_1996(1981)\n",
    "#Zeitgeist1981\n",
    "get_table(1981)"
   ]
  },
  {
   "cell_type": "code",
   "execution_count": null,
   "metadata": {},
   "outputs": [],
   "source": []
  },
  {
   "cell_type": "code",
   "execution_count": null,
   "metadata": {},
   "outputs": [],
   "source": []
  },
  {
   "cell_type": "code",
   "execution_count": null,
   "metadata": {},
   "outputs": [],
   "source": []
  },
  {
   "cell_type": "code",
   "execution_count": 11,
   "metadata": {},
   "outputs": [],
   "source": [
    "pieces = []\n",
    "for year in [*range(1999, 2004,1)]:\n",
    "    url = 'http://en.wikipedia.org/wiki/List_of_American_films_of_'+ str(year)\n",
    "    df = get_table_after_1996(year)\n",
    "    pieces.append(df)\n",
    "\n"
   ]
  },
  {
   "cell_type": "code",
   "execution_count": 12,
   "metadata": {},
   "outputs": [],
   "source": [
    "df_all = pd.concat(pieces)\n",
    "df_all\n",
    "df_all.to_csv('9_11.csv', index=False, header= True)"
   ]
  },
  {
   "cell_type": "code",
   "execution_count": 13,
   "metadata": {
    "scrolled": true
   },
   "outputs": [],
   "source": [
    "grouped = df_all.groupby(['Year'])['year_war_grade'].sum()\n",
    "grouped.to_csv('grouped.csv', index='Year', header=True)"
   ]
  },
  {
   "cell_type": "code",
   "execution_count": 14,
   "metadata": {},
   "outputs": [
    {
     "data": {
      "text/plain": [
       "Year\n",
       "1999    1375.0\n",
       "2000    1279.0\n",
       "2001    1364.0\n",
       "2002    1495.0\n",
       "2003    1547.0\n",
       "Name: year_war_grade, dtype: float64"
      ]
     },
     "execution_count": 14,
     "metadata": {},
     "output_type": "execute_result"
    }
   ],
   "source": [
    "grouped\n",
    "\n"
   ]
  },
  {
   "cell_type": "code",
   "execution_count": null,
   "metadata": {},
   "outputs": [],
   "source": []
  },
  {
   "cell_type": "code",
   "execution_count": null,
   "metadata": {},
   "outputs": [],
   "source": []
  }
 ],
 "metadata": {
  "kernelspec": {
   "display_name": "Python [conda env:learn-env] *",
   "language": "python",
   "name": "conda-env-learn-env-py"
  },
  "language_info": {
   "codemirror_mode": {
    "name": "ipython",
    "version": 3
   },
   "file_extension": ".py",
   "mimetype": "text/x-python",
   "name": "python",
   "nbconvert_exporter": "python",
   "pygments_lexer": "ipython3",
   "version": "3.6.9"
  }
 },
 "nbformat": 4,
 "nbformat_minor": 2
}

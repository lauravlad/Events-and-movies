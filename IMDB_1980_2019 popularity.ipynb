{
 "cells": [
  {
   "cell_type": "code",
   "execution_count": 2,
   "metadata": {},
   "outputs": [],
   "source": [
    "# Import necessary packages\n",
    "import requests\n",
    "import urllib.request\n",
    "import time\n",
    "from bs4 import BeautifulSoup\n",
    "import numpy as np\n",
    "import pandas as pd\n",
    "from urllib.request import urlopen\n",
    "import matplotlib.pyplot as plt\n",
    "%matplotlib inline\n",
    "import seaborn as sns"
   ]
  },
  {
   "cell_type": "code",
   "execution_count": 3,
   "metadata": {},
   "outputs": [],
   "source": [
    "#Works\n",
    "def get_IMDB_names(url):\n",
    "    rn = requests.get(url)\n",
    "    soup = BeautifulSoup(rn.text, 'html.parser')\n",
    "    movie_containers = soup.find_all('div', class_ = 'lister-item mode-advanced')\n",
    "    names = []\n",
    "    for container in movie_containers:\n",
    "# Extract:\n",
    "# The name\n",
    "        name = container.select('img')[0]['alt']\n",
    "        names.append(name)\n",
    "    return names"
   ]
  },
  {
   "cell_type": "code",
   "execution_count": 4,
   "metadata": {},
   "outputs": [],
   "source": [
    "def get_IMDB_years(url):\n",
    "    ry = requests.get(url)\n",
    "    soup = BeautifulSoup(ry.text, 'html.parser')\n",
    "    movie_containers = soup.find_all('div', class_ = 'lister-item mode-advanced')\n",
    "    years = []\n",
    "    for container in movie_containers:\n",
    "        # The year\n",
    "        year = container.find('span', class_ = 'lister-item-year').text\n",
    "        year = str(year)\n",
    "        years.append(year)\n",
    "        year = str(year)\n",
    "        year = year[1:5]\n",
    "    return years"
   ]
  },
  {
   "cell_type": "code",
   "execution_count": 16,
   "metadata": {},
   "outputs": [],
   "source": [
    "def get_IMDB_genres(url):\n",
    "    rg = requests.get(url)\n",
    "    soup = BeautifulSoup(rg.text, 'html.parser')\n",
    "    movie_containers = soup.find_all('div', class_ = 'lister-item mode-advanced')\n",
    "    genre_array = []\n",
    "    for container in movie_containers:\n",
    "        genres = container.find('span', class_ ='genre')\n",
    "        if genres:\n",
    "            genre_array.append([genres.text.strip()])\n",
    "        else:\n",
    "            genre_array.append('None')\n",
    "    return genre_array\n",
    "#list = get_IMDB_genres('https://www.imdb.com/search/title/?title_type=feature&release_date=1980-01-01,1980-12-31&user_rating=5.0,10.0&countries=us&sort=moviemeter,desc&count=250')"
   ]
  },
  {
   "cell_type": "code",
   "execution_count": 10,
   "metadata": {},
   "outputs": [
    {
     "data": {
      "text/html": [
       "<div>\n",
       "<style scoped>\n",
       "    .dataframe tbody tr th:only-of-type {\n",
       "        vertical-align: middle;\n",
       "    }\n",
       "\n",
       "    .dataframe tbody tr th {\n",
       "        vertical-align: top;\n",
       "    }\n",
       "\n",
       "    .dataframe thead th {\n",
       "        text-align: right;\n",
       "    }\n",
       "</style>\n",
       "<table border=\"1\" class=\"dataframe\">\n",
       "  <thead>\n",
       "    <tr style=\"text-align: right;\">\n",
       "      <th></th>\n",
       "      <th>name</th>\n",
       "      <th>genre</th>\n",
       "      <th>year</th>\n",
       "    </tr>\n",
       "  </thead>\n",
       "  <tbody>\n",
       "    <tr>\n",
       "      <td>0</td>\n",
       "      <td>Mondo Sexxxx: The Terry Kobrah Story</td>\n",
       "      <td>['Comedy, Drama, Horror']</td>\n",
       "      <td>1980</td>\n",
       "    </tr>\n",
       "    <tr>\n",
       "      <td>1</td>\n",
       "      <td>09</td>\n",
       "      <td>['Drama']</td>\n",
       "      <td>1980</td>\n",
       "    </tr>\n",
       "    <tr>\n",
       "      <td>2</td>\n",
       "      <td>Sin pecado</td>\n",
       "      <td>['Drama, Fantasy, Mystery']</td>\n",
       "      <td>1980</td>\n",
       "    </tr>\n",
       "    <tr>\n",
       "      <td>3</td>\n",
       "      <td>Paper Ketchup</td>\n",
       "      <td>['Comedy, Musical, Romance']</td>\n",
       "      <td>1980</td>\n",
       "    </tr>\n",
       "    <tr>\n",
       "      <td>4</td>\n",
       "      <td>You Used to Be Beautiful</td>\n",
       "      <td>['Comedy, Drama, Romance']</td>\n",
       "      <td>1980</td>\n",
       "    </tr>\n",
       "    <tr>\n",
       "      <td>...</td>\n",
       "      <td>...</td>\n",
       "      <td>...</td>\n",
       "      <td>...</td>\n",
       "    </tr>\n",
       "    <tr>\n",
       "      <td>245</td>\n",
       "      <td>Discouraging Words</td>\n",
       "      <td>['Comedy, Drama']</td>\n",
       "      <td>1980</td>\n",
       "    </tr>\n",
       "    <tr>\n",
       "      <td>246</td>\n",
       "      <td>Anikruya</td>\n",
       "      <td>['Action, Adventure, Family']</td>\n",
       "      <td>1980</td>\n",
       "    </tr>\n",
       "    <tr>\n",
       "      <td>247</td>\n",
       "      <td>The Last Dudes on Earth</td>\n",
       "      <td>['Comedy, Sci-Fi']</td>\n",
       "      <td>1980</td>\n",
       "    </tr>\n",
       "    <tr>\n",
       "      <td>248</td>\n",
       "      <td>Sunset</td>\n",
       "      <td>['Drama']</td>\n",
       "      <td>1980</td>\n",
       "    </tr>\n",
       "    <tr>\n",
       "      <td>249</td>\n",
       "      <td>Homer and Penelope</td>\n",
       "      <td>None</td>\n",
       "      <td>1980</td>\n",
       "    </tr>\n",
       "  </tbody>\n",
       "</table>\n",
       "<p>250 rows × 3 columns</p>\n",
       "</div>"
      ],
      "text/plain": [
       "                                     name                          genre  year\n",
       "0    Mondo Sexxxx: The Terry Kobrah Story      ['Comedy, Drama, Horror']  1980\n",
       "1                                      09                      ['Drama']  1980\n",
       "2                              Sin pecado    ['Drama, Fantasy, Mystery']  1980\n",
       "3                           Paper Ketchup   ['Comedy, Musical, Romance']  1980\n",
       "4                You Used to Be Beautiful     ['Comedy, Drama, Romance']  1980\n",
       "..                                    ...                            ...   ...\n",
       "245                    Discouraging Words              ['Comedy, Drama']  1980\n",
       "246                              Anikruya  ['Action, Adventure, Family']  1980\n",
       "247               The Last Dudes on Earth             ['Comedy, Sci-Fi']  1980\n",
       "248                                Sunset                      ['Drama']  1980\n",
       "249                    Homer and Penelope                           None  1980\n",
       "\n",
       "[250 rows x 3 columns]"
      ]
     },
     "execution_count": 10,
     "metadata": {},
     "output_type": "execute_result"
    }
   ],
   "source": [
    "#function that will get the violence grade for a year\n",
    "def get_IMDB_table_popularity(year):\n",
    "    url = 'https://www.imdb.com/search/title/?title_type=feature&release_date='+ str(year)+'-01-01,'+str(year)+'-12-31&user_rating=5.0,10.0&countries=us&sort=moviemeter,desc&count=250')\n",
    "    names = get_IMDB_names(url)\n",
    "    #years = get_IMDB_years(url)\n",
    "    genres = get_IMDB_genres(url)\n",
    "    initial_df = pd.DataFrame({'name': names, 'genre': genres})\n",
    "    #turn BS elements into strings\n",
    "    initial_df['genre']=initial_df['genre'].map(lambda x: str(x))\n",
    "    # add a year column             \n",
    "    years = [year]*len(initial_df)\n",
    "    initial_df['year'] = years\n",
    "    return initial_df\n",
    "get_IMDB_table_popularity(1980)  \n"
   ]
  },
  {
   "cell_type": "code",
   "execution_count": null,
   "metadata": {},
   "outputs": [],
   "source": [
    "pieces = []\n",
    "for year in [*range(1980,2019,1)]:\n",
    "    popularity_df= get_IMDB_table_popularity(year)\n",
    "    pieces.append(popularity_df)\n",
    "df_popularity_all = pd.concat(pieces)\n",
    "#df_popularity_all.to_csv('IMDB_popularity_80_19.csv', index=False, header = True)\n"
   ]
  },
  {
   "cell_type": "code",
   "execution_count": null,
   "metadata": {},
   "outputs": [],
   "source": [
    "df_popularity_all.to_csv('IMDB_popularity_80_19.csv', index=False, header = True)\n"
   ]
  },
  {
   "cell_type": "code",
   "execution_count": null,
   "metadata": {},
   "outputs": [],
   "source": [
    "popularity_df.head()"
   ]
  },
  {
   "cell_type": "code",
   "execution_count": 148,
   "metadata": {},
   "outputs": [
    {
     "data": {
      "text/html": [
       "<div>\n",
       "<style scoped>\n",
       "    .dataframe tbody tr th:only-of-type {\n",
       "        vertical-align: middle;\n",
       "    }\n",
       "\n",
       "    .dataframe tbody tr th {\n",
       "        vertical-align: top;\n",
       "    }\n",
       "\n",
       "    .dataframe thead th {\n",
       "        text-align: right;\n",
       "    }\n",
       "</style>\n",
       "<table border=\"1\" class=\"dataframe\">\n",
       "  <thead>\n",
       "    <tr style=\"text-align: right;\">\n",
       "      <th></th>\n",
       "      <th>name</th>\n",
       "      <th>genre</th>\n",
       "      <th>year</th>\n",
       "    </tr>\n",
       "  </thead>\n",
       "  <tbody>\n",
       "    <tr>\n",
       "      <td>0</td>\n",
       "      <td>Mondo Sexxxx: The Terry Kobrah Story</td>\n",
       "      <td>&lt;span class=\"genre\"&gt;\\nComedy, Drama, Horror   ...</td>\n",
       "      <td>1980</td>\n",
       "    </tr>\n",
       "    <tr>\n",
       "      <td>1</td>\n",
       "      <td>09</td>\n",
       "      <td>&lt;span class=\"genre\"&gt;\\nDrama            &lt;/span&gt;</td>\n",
       "      <td>1980</td>\n",
       "    </tr>\n",
       "    <tr>\n",
       "      <td>2</td>\n",
       "      <td>Sin pecado</td>\n",
       "      <td>&lt;span class=\"genre\"&gt;\\nDrama, Fantasy, Mystery ...</td>\n",
       "      <td>1980</td>\n",
       "    </tr>\n",
       "    <tr>\n",
       "      <td>3</td>\n",
       "      <td>Paper Ketchup</td>\n",
       "      <td>&lt;span class=\"genre\"&gt;\\nComedy, Musical, Romance...</td>\n",
       "      <td>1980</td>\n",
       "    </tr>\n",
       "    <tr>\n",
       "      <td>4</td>\n",
       "      <td>You Used to Be Beautiful</td>\n",
       "      <td>&lt;span class=\"genre\"&gt;\\nComedy, Drama, Romance  ...</td>\n",
       "      <td>1980</td>\n",
       "    </tr>\n",
       "  </tbody>\n",
       "</table>\n",
       "</div>"
      ],
      "text/plain": [
       "                                   name  \\\n",
       "0  Mondo Sexxxx: The Terry Kobrah Story   \n",
       "1                                    09   \n",
       "2                            Sin pecado   \n",
       "3                         Paper Ketchup   \n",
       "4              You Used to Be Beautiful   \n",
       "\n",
       "                                               genre  year  \n",
       "0  <span class=\"genre\">\\nComedy, Drama, Horror   ...  1980  \n",
       "1     <span class=\"genre\">\\nDrama            </span>  1980  \n",
       "2  <span class=\"genre\">\\nDrama, Fantasy, Mystery ...  1980  \n",
       "3  <span class=\"genre\">\\nComedy, Musical, Romance...  1980  \n",
       "4  <span class=\"genre\">\\nComedy, Drama, Romance  ...  1980  "
      ]
     },
     "execution_count": 148,
     "metadata": {},
     "output_type": "execute_result"
    }
   ],
   "source": [
    "df = pd.read_csv('IMDB_popularity_80_19.csv')\n",
    "df.head()"
   ]
  },
  {
   "cell_type": "code",
   "execution_count": 149,
   "metadata": {},
   "outputs": [
    {
     "data": {
      "text/html": [
       "<div>\n",
       "<style scoped>\n",
       "    .dataframe tbody tr th:only-of-type {\n",
       "        vertical-align: middle;\n",
       "    }\n",
       "\n",
       "    .dataframe tbody tr th {\n",
       "        vertical-align: top;\n",
       "    }\n",
       "\n",
       "    .dataframe thead th {\n",
       "        text-align: right;\n",
       "    }\n",
       "</style>\n",
       "<table border=\"1\" class=\"dataframe\">\n",
       "  <thead>\n",
       "    <tr style=\"text-align: right;\">\n",
       "      <th></th>\n",
       "      <th>name</th>\n",
       "      <th>genre</th>\n",
       "      <th>year</th>\n",
       "    </tr>\n",
       "  </thead>\n",
       "  <tbody>\n",
       "    <tr>\n",
       "      <td>0</td>\n",
       "      <td>Mondo Sexxxx: The Terry Kobrah Story</td>\n",
       "      <td>&lt;span class=\"genre\"&gt;\\nComedy, Drama, Horror   ...</td>\n",
       "      <td>1980</td>\n",
       "    </tr>\n",
       "    <tr>\n",
       "      <td>1</td>\n",
       "      <td>09</td>\n",
       "      <td>&lt;span class=\"genre\"&gt;\\nDrama            &lt;/span&gt;</td>\n",
       "      <td>1980</td>\n",
       "    </tr>\n",
       "    <tr>\n",
       "      <td>2</td>\n",
       "      <td>Sin pecado</td>\n",
       "      <td>&lt;span class=\"genre\"&gt;\\nDrama, Fantasy, Mystery ...</td>\n",
       "      <td>1980</td>\n",
       "    </tr>\n",
       "    <tr>\n",
       "      <td>3</td>\n",
       "      <td>Paper Ketchup</td>\n",
       "      <td>&lt;span class=\"genre\"&gt;\\nComedy, Musical, Romance...</td>\n",
       "      <td>1980</td>\n",
       "    </tr>\n",
       "    <tr>\n",
       "      <td>4</td>\n",
       "      <td>You Used to Be Beautiful</td>\n",
       "      <td>&lt;span class=\"genre\"&gt;\\nComedy, Drama, Romance  ...</td>\n",
       "      <td>1980</td>\n",
       "    </tr>\n",
       "  </tbody>\n",
       "</table>\n",
       "</div>"
      ],
      "text/plain": [
       "                                   name  \\\n",
       "0  Mondo Sexxxx: The Terry Kobrah Story   \n",
       "1                                    09   \n",
       "2                            Sin pecado   \n",
       "3                         Paper Ketchup   \n",
       "4              You Used to Be Beautiful   \n",
       "\n",
       "                                               genre  year  \n",
       "0  <span class=\"genre\">\\nComedy, Drama, Horror   ...  1980  \n",
       "1     <span class=\"genre\">\\nDrama            </span>  1980  \n",
       "2  <span class=\"genre\">\\nDrama, Fantasy, Mystery ...  1980  \n",
       "3  <span class=\"genre\">\\nComedy, Musical, Romance...  1980  \n",
       "4  <span class=\"genre\">\\nComedy, Drama, Romance  ...  1980  "
      ]
     },
     "execution_count": 149,
     "metadata": {},
     "output_type": "execute_result"
    }
   ],
   "source": [
    "df['genre']=df['genre'].map(lambda x: str(x))\n",
    "df.head()\n",
    "\n",
    "\n"
   ]
  },
  {
   "cell_type": "code",
   "execution_count": 150,
   "metadata": {},
   "outputs": [
    {
     "data": {
      "text/html": [
       "<div>\n",
       "<style scoped>\n",
       "    .dataframe tbody tr th:only-of-type {\n",
       "        vertical-align: middle;\n",
       "    }\n",
       "\n",
       "    .dataframe tbody tr th {\n",
       "        vertical-align: top;\n",
       "    }\n",
       "\n",
       "    .dataframe thead th {\n",
       "        text-align: right;\n",
       "    }\n",
       "</style>\n",
       "<table border=\"1\" class=\"dataframe\">\n",
       "  <thead>\n",
       "    <tr style=\"text-align: right;\">\n",
       "      <th></th>\n",
       "      <th>name</th>\n",
       "      <th>genre</th>\n",
       "      <th>year</th>\n",
       "    </tr>\n",
       "  </thead>\n",
       "  <tbody>\n",
       "    <tr>\n",
       "      <td>0</td>\n",
       "      <td>Mondo Sexxxx: The Terry Kobrah Story</td>\n",
       "      <td>[&lt;span, class=\"genre\"&gt;, Comedy,, Drama,, Horro...</td>\n",
       "      <td>1980</td>\n",
       "    </tr>\n",
       "    <tr>\n",
       "      <td>1</td>\n",
       "      <td>09</td>\n",
       "      <td>[&lt;span, class=\"genre\"&gt;, Drama, &lt;/span&gt;]</td>\n",
       "      <td>1980</td>\n",
       "    </tr>\n",
       "    <tr>\n",
       "      <td>2</td>\n",
       "      <td>Sin pecado</td>\n",
       "      <td>[&lt;span, class=\"genre\"&gt;, Drama,, Fantasy,, Myst...</td>\n",
       "      <td>1980</td>\n",
       "    </tr>\n",
       "    <tr>\n",
       "      <td>3</td>\n",
       "      <td>Paper Ketchup</td>\n",
       "      <td>[&lt;span, class=\"genre\"&gt;, Comedy,, Musical,, Rom...</td>\n",
       "      <td>1980</td>\n",
       "    </tr>\n",
       "    <tr>\n",
       "      <td>4</td>\n",
       "      <td>You Used to Be Beautiful</td>\n",
       "      <td>[&lt;span, class=\"genre\"&gt;, Comedy,, Drama,, Roman...</td>\n",
       "      <td>1980</td>\n",
       "    </tr>\n",
       "  </tbody>\n",
       "</table>\n",
       "</div>"
      ],
      "text/plain": [
       "                                   name  \\\n",
       "0  Mondo Sexxxx: The Terry Kobrah Story   \n",
       "1                                    09   \n",
       "2                            Sin pecado   \n",
       "3                         Paper Ketchup   \n",
       "4              You Used to Be Beautiful   \n",
       "\n",
       "                                               genre  year  \n",
       "0  [<span, class=\"genre\">, Comedy,, Drama,, Horro...  1980  \n",
       "1            [<span, class=\"genre\">, Drama, </span>]  1980  \n",
       "2  [<span, class=\"genre\">, Drama,, Fantasy,, Myst...  1980  \n",
       "3  [<span, class=\"genre\">, Comedy,, Musical,, Rom...  1980  \n",
       "4  [<span, class=\"genre\">, Comedy,, Drama,, Roman...  1980  "
      ]
     },
     "execution_count": 150,
     "metadata": {},
     "output_type": "execute_result"
    }
   ],
   "source": [
    "df['genre']=df['genre'].map(lambda x: x.split())\n",
    "df.head()"
   ]
  },
  {
   "cell_type": "code",
   "execution_count": 152,
   "metadata": {},
   "outputs": [
    {
     "data": {
      "text/html": [
       "<div>\n",
       "<style scoped>\n",
       "    .dataframe tbody tr th:only-of-type {\n",
       "        vertical-align: middle;\n",
       "    }\n",
       "\n",
       "    .dataframe tbody tr th {\n",
       "        vertical-align: top;\n",
       "    }\n",
       "\n",
       "    .dataframe thead th {\n",
       "        text-align: right;\n",
       "    }\n",
       "</style>\n",
       "<table border=\"1\" class=\"dataframe\">\n",
       "  <thead>\n",
       "    <tr style=\"text-align: right;\">\n",
       "      <th></th>\n",
       "      <th>name</th>\n",
       "      <th>genre</th>\n",
       "      <th>year</th>\n",
       "    </tr>\n",
       "  </thead>\n",
       "  <tbody>\n",
       "    <tr>\n",
       "      <td>0</td>\n",
       "      <td>Mondo Sexxxx: The Terry Kobrah Story</td>\n",
       "      <td>[Comedy,, Drama,, Horror]</td>\n",
       "      <td>1980</td>\n",
       "    </tr>\n",
       "    <tr>\n",
       "      <td>1</td>\n",
       "      <td>09</td>\n",
       "      <td>[Drama]</td>\n",
       "      <td>1980</td>\n",
       "    </tr>\n",
       "    <tr>\n",
       "      <td>2</td>\n",
       "      <td>Sin pecado</td>\n",
       "      <td>[Drama,, Fantasy,, Mystery]</td>\n",
       "      <td>1980</td>\n",
       "    </tr>\n",
       "    <tr>\n",
       "      <td>3</td>\n",
       "      <td>Paper Ketchup</td>\n",
       "      <td>[Comedy,, Musical,, Romance]</td>\n",
       "      <td>1980</td>\n",
       "    </tr>\n",
       "    <tr>\n",
       "      <td>4</td>\n",
       "      <td>You Used to Be Beautiful</td>\n",
       "      <td>[Comedy,, Drama,, Romance]</td>\n",
       "      <td>1980</td>\n",
       "    </tr>\n",
       "  </tbody>\n",
       "</table>\n",
       "</div>"
      ],
      "text/plain": [
       "                                   name                         genre  year\n",
       "0  Mondo Sexxxx: The Terry Kobrah Story     [Comedy,, Drama,, Horror]  1980\n",
       "1                                    09                       [Drama]  1980\n",
       "2                            Sin pecado   [Drama,, Fantasy,, Mystery]  1980\n",
       "3                         Paper Ketchup  [Comedy,, Musical,, Romance]  1980\n",
       "4              You Used to Be Beautiful    [Comedy,, Drama,, Romance]  1980"
      ]
     },
     "execution_count": 152,
     "metadata": {},
     "output_type": "execute_result"
    }
   ],
   "source": [
    "df['genre']=df['genre'].map(lambda x: x[2:-1])\n",
    "df.head()"
   ]
  },
  {
   "cell_type": "code",
   "execution_count": 162,
   "metadata": {},
   "outputs": [
    {
     "data": {
      "text/plain": [
       "['Comedy,', 'Drama,', 'Horror']"
      ]
     },
     "execution_count": 162,
     "metadata": {},
     "output_type": "execute_result"
    }
   ],
   "source": [
    "genre_movie = df['genre'][0]\n",
    "genre_movie"
   ]
  },
  {
   "cell_type": "code",
   "execution_count": 163,
   "metadata": {},
   "outputs": [
    {
     "data": {
      "text/plain": [
       "['Comedy,', 'Drama,', 'Horror']"
      ]
     },
     "execution_count": 163,
     "metadata": {},
     "output_type": "execute_result"
    }
   ],
   "source": [
    "list_year_no_comma = []\n",
    "            for item in list_year:\n",
    "                if ',' in item:\n",
    "                        list_year_no_comma.append(item[:-1])\n",
    "                else:\n",
    "                            list_year_no_comma.append(item)"
   ]
  },
  {
   "cell_type": "code",
   "execution_count": null,
   "metadata": {},
   "outputs": [],
   "source": [
    "#df['genre']=df['genre'].map(lambda x: x.lower()) \n",
    "#df.head()"
   ]
  },
  {
   "cell_type": "markdown",
   "metadata": {},
   "source": [
    "second_work_str = work_list[2:-1]\n",
    "second_work_str\n",
    "\n"
   ]
  },
  {
   "cell_type": "markdown",
   "metadata": {},
   "source": [
    "second_work_str[0][4:-8]"
   ]
  },
  {
   "cell_type": "markdown",
   "metadata": {},
   "source": [
    "def garbage_off(rough_list):\n",
    "    genre_list = []\n",
    "    for item in rough_list:\n",
    "            if 'span' in item:\n",
    "                continue\n",
    "            elif 'class' in item:\n",
    "                continue\n",
    "            else:\n",
    "                to_use_list.append(item)\n",
    "print(garbage_off(work_list))"
   ]
  },
  {
   "cell_type": "code",
   "execution_count": null,
   "metadata": {},
   "outputs": [],
   "source": [
    "def flatten_genre(df):\n",
    "    print('test2')     \n",
    "    flatten_df = df['Genre'].apply(pd.Series) \\         \n",
    "    .merge(df, right_index = True, left_index = True) \\         \n",
    "    .drop(['Genre'], axis = 1) \\        \n",
    "    .melt(id_vars = df.columns.drop('Genre'), value_name = \"Genre\") \\       \n",
    "    .drop(\"variable\", axis = 1) \\         .dropna(subset=['Genre'])    \n",
    "    print('test')     return flatten_df"
   ]
  }
 ],
 "metadata": {
  "kernelspec": {
   "display_name": "Python [conda env:learn-env] *",
   "language": "python",
   "name": "conda-env-learn-env-py"
  },
  "language_info": {
   "codemirror_mode": {
    "name": "ipython",
    "version": 3
   },
   "file_extension": ".py",
   "mimetype": "text/x-python",
   "name": "python",
   "nbconvert_exporter": "python",
   "pygments_lexer": "ipython3",
   "version": "3.6.9"
  }
 },
 "nbformat": 4,
 "nbformat_minor": 2
}

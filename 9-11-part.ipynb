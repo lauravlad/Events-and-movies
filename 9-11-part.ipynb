{
 "cells": [
  {
   "cell_type": "code",
   "execution_count": 60,
   "metadata": {},
   "outputs": [],
   "source": [
    "# Import necessary packages\n",
    "import requests\n",
    "import urllib.request\n",
    "import time\n",
    "from bs4 import BeautifulSoup\n",
    "import numpy as np\n",
    "import pandas as pd\n",
    "from urllib.request import urlopen\n",
    "import matplotlib.pyplot as plt\n",
    "%matplotlib inline\n",
    "import seaborn as sns"
   ]
  },
  {
   "cell_type": "code",
   "execution_count": 61,
   "metadata": {},
   "outputs": [],
   "source": [
    "#Function that will scrape a wikipedia page with a list of movies by year, add the year as a new column and return \n",
    "# a data frame.\n",
    "\n",
    "def get_table_after_1996(year):\n",
    "    #create the url \n",
    "    url = 'http://en.wikipedia.org/wiki/List_of_American_films_of_'+ str(year)\n",
    "    html = urlopen(url) \n",
    "    soup = BeautifulSoup(html, 'html.parser')\n",
    "    website_url = requests.get(url).text \n",
    "    soup = BeautifulSoup(website_url, 'lxml')\n",
    "    My_table = soup.find('table',{'class':'wikitable sortable'})\n",
    "    titles = []\n",
    "    directors = []\n",
    "    actors = []\n",
    "    genres = []\n",
    "    rows = My_table.find_all('tr')\n",
    "    for row in rows:\n",
    "        cells = row.find_all('td')\n",
    "        if len(cells)>=1:\n",
    "            title = cells[0]\n",
    "            titles.append(title.text)\n",
    "            director = cells[1]\n",
    "            directors.append(director.text)\n",
    "            actor = cells[2]\n",
    "            actors.append(actor.text)\n",
    "            genre = cells[3]\n",
    "            genres.append(genre.text)\n",
    "            index = [*range(1,len(titles)+1,1)]\n",
    "            df = pd.DataFrame({'Titles': titles,'Directors' : directors, 'Actors': actors, 'Genres': genres, }, index = index   )\n",
    "            years = [year]*len(df)\n",
    "            df['Year'] = years\n",
    "    return df\n"
   ]
  },
  {
   "cell_type": "code",
   "execution_count": 62,
   "metadata": {},
   "outputs": [
    {
     "data": {
      "text/html": [
       "<div>\n",
       "<style scoped>\n",
       "    .dataframe tbody tr th:only-of-type {\n",
       "        vertical-align: middle;\n",
       "    }\n",
       "\n",
       "    .dataframe tbody tr th {\n",
       "        vertical-align: top;\n",
       "    }\n",
       "\n",
       "    .dataframe thead th {\n",
       "        text-align: right;\n",
       "    }\n",
       "</style>\n",
       "<table border=\"1\" class=\"dataframe\">\n",
       "  <thead>\n",
       "    <tr style=\"text-align: right;\">\n",
       "      <th></th>\n",
       "      <th>Titles</th>\n",
       "      <th>Directors</th>\n",
       "      <th>Actors</th>\n",
       "      <th>Genres</th>\n",
       "      <th>Year</th>\n",
       "    </tr>\n",
       "  </thead>\n",
       "  <tbody>\n",
       "    <tr>\n",
       "      <td>1</td>\n",
       "      <td>10 Things I Hate About You</td>\n",
       "      <td>Gil Junger</td>\n",
       "      <td>Julia Stiles, Heath Ledger, Larisa Oleynik, Jo...</td>\n",
       "      <td>Romantic comedy</td>\n",
       "      <td>1999</td>\n",
       "    </tr>\n",
       "    <tr>\n",
       "      <td>2</td>\n",
       "      <td>The 13th Warrior</td>\n",
       "      <td>John McTiernan</td>\n",
       "      <td>Antonio Banderas, Diane Venora, Vladimir Kulic...</td>\n",
       "      <td>Action</td>\n",
       "      <td>1999</td>\n",
       "    </tr>\n",
       "    <tr>\n",
       "      <td>3</td>\n",
       "      <td>200 Cigarettes</td>\n",
       "      <td>Risa Bramon Garcia</td>\n",
       "      <td>Ben Affleck, Casey Affleck, Dave Chappelle, Gu...</td>\n",
       "      <td>Comedy, Drama</td>\n",
       "      <td>1999</td>\n",
       "    </tr>\n",
       "    <tr>\n",
       "      <td>4</td>\n",
       "      <td>The 4th Floor</td>\n",
       "      <td>Josh Klausner</td>\n",
       "      <td>Juliette Lewis, William Hurt, Shelley Duvall</td>\n",
       "      <td>Horror</td>\n",
       "      <td>1999</td>\n",
       "    </tr>\n",
       "    <tr>\n",
       "      <td>5</td>\n",
       "      <td>8mm</td>\n",
       "      <td>Joel Schumacher</td>\n",
       "      <td>Nicolas Cage, Joaquin Phoenix, James Gandolfin...</td>\n",
       "      <td>Thriller</td>\n",
       "      <td>1999</td>\n",
       "    </tr>\n",
       "  </tbody>\n",
       "</table>\n",
       "</div>"
      ],
      "text/plain": [
       "                       Titles           Directors  \\\n",
       "1  10 Things I Hate About You          Gil Junger   \n",
       "2            The 13th Warrior      John McTiernan   \n",
       "3              200 Cigarettes  Risa Bramon Garcia   \n",
       "4               The 4th Floor       Josh Klausner   \n",
       "5                         8mm     Joel Schumacher   \n",
       "\n",
       "                                              Actors           Genres  Year  \n",
       "1  Julia Stiles, Heath Ledger, Larisa Oleynik, Jo...  Romantic comedy  1999  \n",
       "2  Antonio Banderas, Diane Venora, Vladimir Kulic...           Action  1999  \n",
       "3  Ben Affleck, Casey Affleck, Dave Chappelle, Gu...    Comedy, Drama  1999  \n",
       "4       Juliette Lewis, William Hurt, Shelley Duvall           Horror  1999  \n",
       "5  Nicolas Cage, Joaquin Phoenix, James Gandolfin...         Thriller  1999  "
      ]
     },
     "execution_count": 62,
     "metadata": {},
     "output_type": "execute_result"
    }
   ],
   "source": [
    "df = get_table_after_1996(1999)\n",
    "df.head()"
   ]
  },
  {
   "cell_type": "code",
   "execution_count": 96,
   "metadata": {
    "scrolled": true
   },
   "outputs": [
    {
     "data": {
      "text/plain": [
       "23"
      ]
     },
     "execution_count": 96,
     "metadata": {},
     "output_type": "execute_result"
    }
   ],
   "source": [
    "#\n",
    "df_1999 = get_table_after_1996(1999)\n",
    "#create a list with all the movie genres\n",
    "list_of_genres = ['children', 'fantasy', 'magical', 'mystery', 'action', 'crime', 'drama', 'science fiction', 'adventure', 'biography', 'comedy', 'thriller', 'musical', 'western', 'romance', 'animation', 'war', 'horror', 'sport', 'political', 'saga', ' satire', 'social']\n",
    "len(list_of_genres)\n",
    "#create a dictionary that will give war grades by genre\n",
    "war_grades = {'children':0, 'fantasy':3, 'magical':3, 'mystery':4, 'action':7, 'crime':8, 'drama':7, 'SF':5, 'adventure': 4, 'biography':5, 'comedy':4, 'thriller':4, 'musical':4, 'western':8, 'romance': 2, 'war':10, 'horror':4, 'sport':3, 'political':6, 'saga':3, 'satire':2, 'social':4, 'animation':2}\n",
    "len(war_grades)"
   ]
  },
  {
   "cell_type": "code",
   "execution_count": null,
   "metadata": {},
   "outputs": [],
   "source": []
  },
  {
   "cell_type": "code",
   "execution_count": 64,
   "metadata": {},
   "outputs": [],
   "source": [
    "#create a list with all the genres from the \"Genres\" column and lower the case of each element\n",
    "list_1999 = df['Genres'].to_list()\n",
    "list_1999\n",
    "lower_list = [x.lower() for x in list_1999]\n",
    "\n"
   ]
  },
  {
   "cell_type": "code",
   "execution_count": 79,
   "metadata": {},
   "outputs": [],
   "source": [
    "#separate the genres where a movie has two or more genres\n",
    "list = [x.split() for x in lower_list]\n",
    "list_year = []\n",
    "for sublist in list:\n",
    "    for item in sublist:\n",
    "        list_year.append(item)   \n"
   ]
  },
  {
   "cell_type": "code",
   "execution_count": 103,
   "metadata": {},
   "outputs": [
    {
     "ename": "SyntaxError",
     "evalue": "invalid syntax (<ipython-input-103-0469810fc880>, line 9)",
     "output_type": "error",
     "traceback": [
      "\u001b[0;36m  File \u001b[0;32m\"<ipython-input-103-0469810fc880>\"\u001b[0;36m, line \u001b[0;32m9\u001b[0m\n\u001b[0;31m    list_year_no_comma_cleaned = map(lambda x: 'SF' if 'science' in x )\u001b[0m\n\u001b[0m                                                                      ^\u001b[0m\n\u001b[0;31mSyntaxError\u001b[0m\u001b[0;31m:\u001b[0m invalid syntax\n"
     ]
    }
   ],
   "source": [
    "#some genres have comma attached, take off comma\n",
    "list_year_no_comma = []\n",
    "for item in list_year:\n",
    "    if ',' in item:\n",
    "        list_year_no_comma.append(item[:-1])\n",
    "    else:\n",
    "        list_year_no_comma.append(item)\n",
    "print(list_year_no_comma)\n",
    "\n",
    "        \n"
   ]
  },
  {
   "cell_type": "code",
   "execution_count": 67,
   "metadata": {},
   "outputs": [],
   "source": [
    "# Create a dictionary\n",
    "word_counts = {}\n",
    "# Iterate through the text of Macbeth\n",
    "for genre in list_year_no_comma:\n",
    "    # Update word counts\n",
    "    word_counts[genre] = word_counts.get(genre, 0) + 1 #Get previous entry, update by 1"
   ]
  },
  {
   "cell_type": "code",
   "execution_count": 78,
   "metadata": {
    "scrolled": false
   },
   "outputs": [
    {
     "name": "stdout",
     "output_type": "stream",
     "text": [
      "{'romantic': 16, 'comedy': 74, 'action': 16, 'drama': 64, 'horror': 19, 'thriller': 15, \"children's\": 1, 'film': 1, 'documentary': 4, 'family': 9, 'animation': 7, 'musical': 2, 'sports': 3, 'science': 9, 'fiction': 9, 'romance': 3, 'fantasy': 1, 'crime': 14, 'mockumentary': 3, 'biopic': 5, 'animated': 4, 'action-comedy': 1, 'comedy,horro': 1, 'shakespearean': 2, 'superhero': 1, 'war': 2, 'teen': 1, 'biography': 1, 'suspense': 1, 'space': 1, 'opera': 1, 'independent': 1, 'spy': 1}\n"
     ]
    },
    {
     "data": {
      "text/plain": [
       "33"
      ]
     },
     "execution_count": 78,
     "metadata": {},
     "output_type": "execute_result"
    }
   ],
   "source": [
    "print(word_counts)\n",
    "len(word_counts)"
   ]
  },
  {
   "cell_type": "code",
   "execution_count": 77,
   "metadata": {},
   "outputs": [
    {
     "data": {
      "image/png": "[encoded data removed]",
      "text/plain": [
       "<Figure size 1080x576 with 1 Axes>"
      ]
     },
     "metadata": {
      "needs_background": "light"
     },
     "output_type": "display_data"
    }
   ],
   "source": [
    "y_values_all=[]\n",
    "x_values_all=[]\n",
    "for k,v in word_counts.items():\n",
    "    y_values_all.append(v)\n",
    "    x_values_all.append(k)\n",
    "plt.figure(figsize=(15,8))    \n",
    "plt.bar(x_values_all, y_values_all, label=\"1999\")\n",
    "plt.xlabel(\"Genres\")\n",
    "plt.ylabel(\"Frequency\")\n",
    "plt.show()"
   ]
  },
  {
   "cell_type": "code",
   "execution_count": null,
   "metadata": {},
   "outputs": [],
   "source": []
  },
  {
   "cell_type": "code",
   "execution_count": 97,
   "metadata": {},
   "outputs": [
    {
     "data": {
      "text/html": [
       "<div>\n",
       "<style scoped>\n",
       "    .dataframe tbody tr th:only-of-type {\n",
       "        vertical-align: middle;\n",
       "    }\n",
       "\n",
       "    .dataframe tbody tr th {\n",
       "        vertical-align: top;\n",
       "    }\n",
       "\n",
       "    .dataframe thead th {\n",
       "        text-align: right;\n",
       "    }\n",
       "</style>\n",
       "<table border=\"1\" class=\"dataframe\">\n",
       "  <thead>\n",
       "    <tr style=\"text-align: right;\">\n",
       "      <th></th>\n",
       "      <th>Genres</th>\n",
       "      <th>year_1999</th>\n",
       "    </tr>\n",
       "  </thead>\n",
       "  <tbody>\n",
       "    <tr>\n",
       "      <td>0</td>\n",
       "      <td>romantic</td>\n",
       "      <td>16</td>\n",
       "    </tr>\n",
       "    <tr>\n",
       "      <td>1</td>\n",
       "      <td>comedy</td>\n",
       "      <td>74</td>\n",
       "    </tr>\n",
       "    <tr>\n",
       "      <td>2</td>\n",
       "      <td>action</td>\n",
       "      <td>16</td>\n",
       "    </tr>\n",
       "    <tr>\n",
       "      <td>3</td>\n",
       "      <td>drama</td>\n",
       "      <td>64</td>\n",
       "    </tr>\n",
       "    <tr>\n",
       "      <td>4</td>\n",
       "      <td>horror</td>\n",
       "      <td>19</td>\n",
       "    </tr>\n",
       "    <tr>\n",
       "      <td>5</td>\n",
       "      <td>thriller</td>\n",
       "      <td>15</td>\n",
       "    </tr>\n",
       "    <tr>\n",
       "      <td>6</td>\n",
       "      <td>children's</td>\n",
       "      <td>1</td>\n",
       "    </tr>\n",
       "    <tr>\n",
       "      <td>7</td>\n",
       "      <td>film</td>\n",
       "      <td>1</td>\n",
       "    </tr>\n",
       "    <tr>\n",
       "      <td>8</td>\n",
       "      <td>documentary</td>\n",
       "      <td>4</td>\n",
       "    </tr>\n",
       "    <tr>\n",
       "      <td>9</td>\n",
       "      <td>family</td>\n",
       "      <td>9</td>\n",
       "    </tr>\n",
       "    <tr>\n",
       "      <td>10</td>\n",
       "      <td>animation</td>\n",
       "      <td>7</td>\n",
       "    </tr>\n",
       "    <tr>\n",
       "      <td>11</td>\n",
       "      <td>musical</td>\n",
       "      <td>2</td>\n",
       "    </tr>\n",
       "    <tr>\n",
       "      <td>12</td>\n",
       "      <td>sports</td>\n",
       "      <td>3</td>\n",
       "    </tr>\n",
       "    <tr>\n",
       "      <td>13</td>\n",
       "      <td>science</td>\n",
       "      <td>9</td>\n",
       "    </tr>\n",
       "    <tr>\n",
       "      <td>14</td>\n",
       "      <td>fiction</td>\n",
       "      <td>9</td>\n",
       "    </tr>\n",
       "    <tr>\n",
       "      <td>15</td>\n",
       "      <td>romance</td>\n",
       "      <td>3</td>\n",
       "    </tr>\n",
       "    <tr>\n",
       "      <td>16</td>\n",
       "      <td>fantasy</td>\n",
       "      <td>1</td>\n",
       "    </tr>\n",
       "    <tr>\n",
       "      <td>17</td>\n",
       "      <td>crime</td>\n",
       "      <td>14</td>\n",
       "    </tr>\n",
       "    <tr>\n",
       "      <td>18</td>\n",
       "      <td>mockumentary</td>\n",
       "      <td>3</td>\n",
       "    </tr>\n",
       "    <tr>\n",
       "      <td>19</td>\n",
       "      <td>biopic</td>\n",
       "      <td>5</td>\n",
       "    </tr>\n",
       "    <tr>\n",
       "      <td>20</td>\n",
       "      <td>animated</td>\n",
       "      <td>4</td>\n",
       "    </tr>\n",
       "    <tr>\n",
       "      <td>21</td>\n",
       "      <td>action-comedy</td>\n",
       "      <td>1</td>\n",
       "    </tr>\n",
       "    <tr>\n",
       "      <td>22</td>\n",
       "      <td>comedy,horro</td>\n",
       "      <td>1</td>\n",
       "    </tr>\n",
       "    <tr>\n",
       "      <td>23</td>\n",
       "      <td>shakespearean</td>\n",
       "      <td>2</td>\n",
       "    </tr>\n",
       "    <tr>\n",
       "      <td>24</td>\n",
       "      <td>superhero</td>\n",
       "      <td>1</td>\n",
       "    </tr>\n",
       "    <tr>\n",
       "      <td>25</td>\n",
       "      <td>war</td>\n",
       "      <td>2</td>\n",
       "    </tr>\n",
       "    <tr>\n",
       "      <td>26</td>\n",
       "      <td>teen</td>\n",
       "      <td>1</td>\n",
       "    </tr>\n",
       "    <tr>\n",
       "      <td>27</td>\n",
       "      <td>biography</td>\n",
       "      <td>1</td>\n",
       "    </tr>\n",
       "    <tr>\n",
       "      <td>28</td>\n",
       "      <td>suspense</td>\n",
       "      <td>1</td>\n",
       "    </tr>\n",
       "    <tr>\n",
       "      <td>29</td>\n",
       "      <td>space</td>\n",
       "      <td>1</td>\n",
       "    </tr>\n",
       "    <tr>\n",
       "      <td>30</td>\n",
       "      <td>opera</td>\n",
       "      <td>1</td>\n",
       "    </tr>\n",
       "    <tr>\n",
       "      <td>31</td>\n",
       "      <td>independent</td>\n",
       "      <td>1</td>\n",
       "    </tr>\n",
       "    <tr>\n",
       "      <td>32</td>\n",
       "      <td>spy</td>\n",
       "      <td>1</td>\n",
       "    </tr>\n",
       "  </tbody>\n",
       "</table>\n",
       "</div>"
      ],
      "text/plain": [
       "           Genres  year_1999\n",
       "0        romantic         16\n",
       "1          comedy         74\n",
       "2          action         16\n",
       "3           drama         64\n",
       "4          horror         19\n",
       "5        thriller         15\n",
       "6      children's          1\n",
       "7            film          1\n",
       "8     documentary          4\n",
       "9          family          9\n",
       "10      animation          7\n",
       "11        musical          2\n",
       "12         sports          3\n",
       "13        science          9\n",
       "14        fiction          9\n",
       "15        romance          3\n",
       "16        fantasy          1\n",
       "17          crime         14\n",
       "18   mockumentary          3\n",
       "19         biopic          5\n",
       "20       animated          4\n",
       "21  action-comedy          1\n",
       "22   comedy,horro          1\n",
       "23  shakespearean          2\n",
       "24      superhero          1\n",
       "25            war          2\n",
       "26           teen          1\n",
       "27      biography          1\n",
       "28       suspense          1\n",
       "29          space          1\n",
       "30          opera          1\n",
       "31    independent          1\n",
       "32            spy          1"
      ]
     },
     "execution_count": 97,
     "metadata": {},
     "output_type": "execute_result"
    }
   ],
   "source": [
    "#turn dictionary into df\n",
    "df_to_plot = pd.DataFrame(word_counts.items(), columns=['Genres', 'year_1999'])\n",
    "df_to_plot"
   ]
  },
  {
   "cell_type": "code",
   "execution_count": 81,
   "metadata": {},
   "outputs": [
    {
     "ename": "SyntaxError",
     "evalue": "invalid syntax (<ipython-input-81-5d8ef1a511ac>, line 1)",
     "output_type": "error",
     "traceback": [
      "\u001b[0;36m  File \u001b[0;32m\"<ipython-input-81-5d8ef1a511ac>\"\u001b[0;36m, line \u001b[0;32m1\u001b[0m\n\u001b[0;31m    df_to_plot.plot(kind='scatter', x:df_to_plot['Genres'], y:df_to_plot['year_1999'])\u001b[0m\n\u001b[0m                                     ^\u001b[0m\n\u001b[0;31mSyntaxError\u001b[0m\u001b[0;31m:\u001b[0m invalid syntax\n"
     ]
    }
   ],
   "source": [
    "df_to_plot.plot(kind='scatter', x:df_to_plot['Genres'], y:df_to_plot['year_1999'])"
   ]
  },
  {
   "cell_type": "code",
   "execution_count": 83,
   "metadata": {},
   "outputs": [],
   "source": [
    "#sns.set(df_to_plot=True)\n",
    "\n",
    "#lmplot = sns.boxplot(data = df_to_plot)\n",
    "#sns.lmplot(x = 'Genre', y = 'Occurences')\n",
    "#lmplot.set(xlabel='Genres', ylabel='Occurences', title='1999_in movie')\n"
   ]
  },
  {
   "cell_type": "code",
   "execution_count": null,
   "metadata": {},
   "outputs": [],
   "source": []
  },
  {
   "cell_type": "code",
   "execution_count": null,
   "metadata": {},
   "outputs": [],
   "source": []
  },
  {
   "cell_type": "code",
   "execution_count": 94,
   "metadata": {},
   "outputs": [
    {
     "data": {
      "text/plain": [
       "Text(0.5, 1.0, 'Genres 1999')"
      ]
     },
     "execution_count": 94,
     "metadata": {},
     "output_type": "execute_result"
    },
    {
     "data": {
      "image/png": "[encoded data removed]",
      "text/plain": [
       "<Figure size 864x864 with 1 Axes>"
      ]
     },
     "metadata": {
      "needs_background": "light"
     },
     "output_type": "display_data"
    }
   ],
   "source": [
    "X = word_counts.keys()\n",
    "Y = word_counts.values()\n",
    "plt.figure(figsize=(12,12))\n",
    "#Create Bar Graph\n",
    "plt.scatter(X , Y)\n",
    "# Include descriptive titles and labels\n",
    "plt.ylabel('Number of Occurences')\n",
    "plt.xlabel('Genre')\n",
    "plt.title('Genres 1999')\n"
   ]
  },
  {
   "cell_type": "code",
   "execution_count": null,
   "metadata": {},
   "outputs": [],
   "source": []
  },
  {
   "cell_type": "code",
   "execution_count": null,
   "metadata": {},
   "outputs": [],
   "source": []
  },
  {
   "cell_type": "code",
   "execution_count": null,
   "metadata": {},
   "outputs": [],
   "source": []
  },
  {
   "cell_type": "code",
   "execution_count": null,
   "metadata": {},
   "outputs": [],
   "source": []
  },
  {
   "cell_type": "code",
   "execution_count": null,
   "metadata": {},
   "outputs": [],
   "source": []
  },
  {
   "cell_type": "code",
   "execution_count": null,
   "metadata": {},
   "outputs": [],
   "source": []
  },
  {
   "cell_type": "code",
   "execution_count": 99,
   "metadata": {},
   "outputs": [],
   "source": [
    "pieces = []\n",
    "for year in [*range(1999,2002,1)]:\n",
    "    url = 'http://en.wikipedia.org/wiki/List_of_American_films_of_'+ str(year)\n",
    "    df = get_table_after_1996(year)\n",
    "    pieces.append(df)\n",
    "df_all_b2001 = pd.concat(pieces)"
   ]
  },
  {
   "cell_type": "code",
   "execution_count": 101,
   "metadata": {},
   "outputs": [
    {
     "data": {
      "text/html": [
       "<div>\n",
       "<style scoped>\n",
       "    .dataframe tbody tr th:only-of-type {\n",
       "        vertical-align: middle;\n",
       "    }\n",
       "\n",
       "    .dataframe tbody tr th {\n",
       "        vertical-align: top;\n",
       "    }\n",
       "\n",
       "    .dataframe thead th {\n",
       "        text-align: right;\n",
       "    }\n",
       "</style>\n",
       "<table border=\"1\" class=\"dataframe\">\n",
       "  <thead>\n",
       "    <tr style=\"text-align: right;\">\n",
       "      <th></th>\n",
       "      <th></th>\n",
       "      <th>Titles</th>\n",
       "    </tr>\n",
       "    <tr>\n",
       "      <th>Year</th>\n",
       "      <th>Genres</th>\n",
       "      <th></th>\n",
       "    </tr>\n",
       "  </thead>\n",
       "  <tbody>\n",
       "    <tr>\n",
       "      <td rowspan=\"5\" valign=\"top\">1999</td>\n",
       "      <td></td>\n",
       "      <td>1</td>\n",
       "    </tr>\n",
       "    <tr>\n",
       "      <td>Action</td>\n",
       "      <td>10</td>\n",
       "    </tr>\n",
       "    <tr>\n",
       "      <td>Action Comedy</td>\n",
       "      <td>1</td>\n",
       "    </tr>\n",
       "    <tr>\n",
       "      <td>Action comedy</td>\n",
       "      <td>1</td>\n",
       "    </tr>\n",
       "    <tr>\n",
       "      <td>Action, Comedy</td>\n",
       "      <td>3</td>\n",
       "    </tr>\n",
       "    <tr>\n",
       "      <td>...</td>\n",
       "      <td>...</td>\n",
       "      <td>...</td>\n",
       "    </tr>\n",
       "    <tr>\n",
       "      <td rowspan=\"5\" valign=\"top\">2001</td>\n",
       "      <td>Thriller</td>\n",
       "      <td>14</td>\n",
       "    </tr>\n",
       "    <tr>\n",
       "      <td>War</td>\n",
       "      <td>5</td>\n",
       "    </tr>\n",
       "    <tr>\n",
       "      <td>War drama</td>\n",
       "      <td>1</td>\n",
       "    </tr>\n",
       "    <tr>\n",
       "      <td>Western</td>\n",
       "      <td>1</td>\n",
       "    </tr>\n",
       "    <tr>\n",
       "      <td>parody</td>\n",
       "      <td>1</td>\n",
       "    </tr>\n",
       "  </tbody>\n",
       "</table>\n",
       "<p>126 rows × 1 columns</p>\n",
       "</div>"
      ],
      "text/plain": [
       "                     Titles\n",
       "Year Genres                \n",
       "1999                      1\n",
       "     Action              10\n",
       "     Action Comedy        1\n",
       "     Action comedy        1\n",
       "     Action, Comedy       3\n",
       "...                     ...\n",
       "2001 Thriller            14\n",
       "     War                  5\n",
       "     War drama            1\n",
       "     Western              1\n",
       "     parody               1\n",
       "\n",
       "[126 rows x 1 columns]"
      ]
     },
     "execution_count": 101,
     "metadata": {},
     "output_type": "execute_result"
    }
   ],
   "source": [
    "df_by_genre = df_all_b2001.groupby(['Year', 'Genres']).count().drop(['Directors', 'Actors'], axis=1)\n",
    "df_by_genre"
   ]
  },
  {
   "cell_type": "code",
   "execution_count": null,
   "metadata": {},
   "outputs": [],
   "source": []
  },
  {
   "cell_type": "code",
   "execution_count": null,
   "metadata": {},
   "outputs": [],
   "source": []
  },
  {
   "cell_type": "code",
   "execution_count": 36,
   "metadata": {},
   "outputs": [],
   "source": []
  },
  {
   "cell_type": "code",
   "execution_count": null,
   "metadata": {
    "scrolled": true
   },
   "outputs": [],
   "source": []
  },
  {
   "cell_type": "code",
   "execution_count": null,
   "metadata": {},
   "outputs": [],
   "source": []
  },
  {
   "cell_type": "code",
   "execution_count": null,
   "metadata": {},
   "outputs": [],
   "source": []
  }
 ],
 "metadata": {
  "kernelspec": {
   "display_name": "Python [conda env:learn-env] *",
   "language": "python",
   "name": "conda-env-learn-env-py"
  },
  "language_info": {
   "codemirror_mode": {
    "name": "ipython",
    "version": 3
   },
   "file_extension": ".py",
   "mimetype": "text/x-python",
   "name": "python",
   "nbconvert_exporter": "python",
   "pygments_lexer": "ipython3",
   "version": "3.6.9"
  }
 },
 "nbformat": 4,
 "nbformat_minor": 2
}

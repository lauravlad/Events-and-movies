{
 "cells": [
  {
   "cell_type": "code",
   "execution_count": null,
   "metadata": {},
   "outputs": [],
   "source": [
    "import requests\n",
    "import urllib.request\n",
    "import time\n",
    "from bs4 import BeautifulSoup\n",
    "import numpy as np\n",
    "import pandas as pd\n",
    "from urllib.request import urlopen"
   ]
  },
  {
   "cell_type": "code",
   "execution_count": null,
   "metadata": {},
   "outputs": [],
   "source": [
    " def get_table_after_1996(url):\n",
    "    html = urlopen(url) \n",
    "    soup = BeautifulSoup(html, 'html.parser')\n",
    "    website_url = requests.get(url).text \n",
    "    soup = BeautifulSoup(website_url, 'lxml')\n",
    "    My_table = soup.find('table',{'class':'wikitable sortable'})\n",
    "    titles = []\n",
    "    directors = []\n",
    "    actors = []\n",
    "    genres = []\n",
    "    rows = My_table.find_all('tr')\n",
    "    for row in rows:\n",
    "        cells = row.find_all('td')\n",
    "        if len(cells)>=1:\n",
    "            title = cells[0]\n",
    "            titles.append(title.text)\n",
    "            director = cells[1]\n",
    "            directors.append(director.text)\n",
    "            actor = cells[2]\n",
    "            actors.append(actor.text)\n",
    "            genre = cells[3]\n",
    "            genres.append(genre.text)\n",
    "            index = [*range(1,len(titles)+1,1)]\n",
    "    return pd.DataFrame({'Titles': titles,'Directors' : directors, 'Actors': actors, 'Genres': genres, }, index = index   )"
   ]
  },
  {
   "cell_type": "code",
   "execution_count": null,
   "metadata": {},
   "outputs": [],
   "source": []
  },
  {
   "cell_type": "code",
   "execution_count": null,
   "metadata": {},
   "outputs": [],
   "source": [
    "def get_table_before_1996(url):\n",
    "    html = urlopen(url) \n",
    "    soup = BeautifulSoup(html, 'html.parser')\n",
    "    website_url = requests.get(url).text \n",
    "    soup = BeautifulSoup(website_url, 'lxml')\n",
    "    My_table = soup.find('table',{'class':'wikitable'})\n",
    "    titles = []\n",
    "    directors = []\n",
    "    actors = []\n",
    "    genres = []\n",
    "    rows = My_table.find_all('tr')\n",
    "    for row in rows:\n",
    "        cells = row.find_all('td')\n",
    "        if len(cells)>=1:\n",
    "            title = cells[0]\n",
    "            titles.append(title.text)\n",
    "            director = cells[1]\n",
    "            directors.append(director.text)\n",
    "            actor = cells[2]\n",
    "            actors.append(actor.text)\n",
    "            genre = cells[3]\n",
    "            genres.append(genre.text)\n",
    "            index = [*range(1,len(titles)+1,1)]\n",
    "    return pd.DataFrame({'Titles': titles,'Directors' : directors, 'Actors': actors, 'Genres': genres, }, index = index   )"
   ]
  },
  {
   "cell_type": "code",
   "execution_count": null,
   "metadata": {},
   "outputs": [],
   "source": [
    "def get_table_after_1996_before_2014(url):\n",
    "# dfs = pd.read_html(https://en.wikipedia.org/wiki/List_of_American_films_of_2014, flavor=\"lxml\")\n",
    "   r = requests.get(url)\n",
    "   soup = BeautifulSoup(r.text, 'html.parser')\n",
    "   table = soup.find('table', {'class': 'wikitable sortable'})\n",
    "   dfs = pd.read_html(str(table).replace(\"2;\", \"2\"))\n",
    "   df = dfs[0].drop(['Opening', 'Opening.1', 'Notes', 'Ref.'], axis = 1)\n",
    "return d"
   ]
  },
  {
   "cell_type": "code",
   "execution_count": null,
   "metadata": {},
   "outputs": [],
   "source": [
    "url = 'https://en.wikipedia.org/wiki/List_of_American_films_of_2014'\n",
    "# dfs = pd.read_html(https://en.wikipedia.org/wiki/List_of_American_films_of_2014, flavor=\"lxml\")\n",
    "r = requests.get(url)\n",
    "soup = BeautifulSoup(r.text, 'html.parser')\n",
    "table = soup.find('table', {'class': 'wikitable sortable'})\n",
    "dfs = pd.read_html(str(table).replace(\"2;\", \"2\"))\n",
    "df = dfs[0].drop(['Opening', 'Opening.1', 'Notes', 'Ref.'], axis = 1)\n",
    "df.head()\n",
    "#def get_table_after_1996_before_2014(url):\n",
    "url = 'https://en.wikipedia.org/wiki/List_of_American_films_of_2014'\n",
    "r = requests.get(url)\n",
    "soup = BeautifulSoup(r.text, 'html.parser')\n",
    "table = soup.find('table', {'class': 'wikitable sortable'})\n",
    "dfs = pd.read_html(str(table).replace(\"5;\", \"5\"))\n",
    "len(dfs)\n",
    "#df_2014 = dfs[1].drop(['Opening', 'Opening.1', 'Notes', 'Ref.'], axis = 1)\n",
    "#return dfs\n",
    "#df_2014"
   ]
  },
  {
   "cell_type": "code",
   "execution_count": null,
   "metadata": {},
   "outputs": [],
   "source": [
    "def get_table_after_1996_before_2014(url):\n",
    "# dfs = pd.read_html(https://en.wikipedia.org/wiki/List_of_American_films_of_2014, flavor=\"lxml\")\n",
    "   r = requests.get(url)\n",
    "   soup = BeautifulSoup(r.text, 'html.parser')\n",
    "   table = soup.find('table', {'class': 'wikitable sortable'})\n",
    "   dfs = pd.read_html(str(table).replace(\"2;\", \"2\"))\n",
    "   df = dfs[0].drop(['Opening', 'Opening.1', 'Notes', 'Ref.'], axis = 1)\n",
    "return df\n",
    "df_2014 = get_table_after_1996_before_2014('https://en.wikipedia.org/wiki/List_of_American_films_of_2014')\n",
    "df_2014\n",
    "df_1999 = get_table_after_1996('https://en.wikipedia.org/wiki/List_of_American_films_of_1999')\n",
    "df_1999.head()\n",
    "pieces = []\n",
    "for year in [*range(1950, 2020,1)]:\n",
    "    url = 'http://en.wikipedia.org/wiki/List_of_American_films_of_'+ str(year)\n",
    "    if year <= 1996:\n",
    "        df = get_table_before_1996(url)\n",
    "    elif year > 1996 < 2014:\n",
    "        df = get_table_after_1996(url)\n",
    "    else:\n",
    "        df = get_table_after_1996_before_2014(url)\n",
    "    pieces.append(df)\n",
    "return pieces\n",
    "df_all = pd.concat(pieces)\n",
    "df_all\n",
    "import pandas as pd\n",
    "import requests\n",
    "from bs4 import BeautifulSoup\n"
   ]
  }
 ],
 "metadata": {
  "kernelspec": {
   "display_name": "Python [conda env:learn-env] *",
   "language": "python",
   "name": "conda-env-learn-env-py"
  },
  "language_info": {
   "codemirror_mode": {
    "name": "ipython",
    "version": 3
   },
   "file_extension": ".py",
   "mimetype": "text/x-python",
   "name": "python",
   "nbconvert_exporter": "python",
   "pygments_lexer": "ipython3",
   "version": "3.6.9"
  }
 },
 "nbformat": 4,
 "nbformat_minor": 2
}

{
 "cells": [
  {
   "cell_type": "code",
   "execution_count": 1,
   "metadata": {},
   "outputs": [],
   "source": [
    "# Import necessary packages\n",
    "import requests\n",
    "import urllib.request\n",
    "import time\n",
    "from bs4 import BeautifulSoup\n",
    "import numpy as np\n",
    "import pandas as pd\n",
    "from urllib.request import urlopen\n",
    "import matplotlib.pyplot as plt\n",
    "%matplotlib inline\n",
    "import seaborn as sns"
   ]
  },
  {
   "cell_type": "code",
   "execution_count": 1,
   "metadata": {},
   "outputs": [],
   "source": [
    "#list_of_genres = ['children', 'fantasy', 'magical', 'mystery', 'action', 'crime', 'drama', 'science fiction', 'adventure', 'biography', 'comedy', 'thriller', 'musical', 'western', 'romance', 'animation', 'war', 'horror', 'sport', 'political', 'saga', ' satire', 'social']\n",
    "#war_grades = {'children':1, 'fantasy':3, 'magical':3, 'mystery':4, 'action':7, 'crime':8, 'drama':7, 'SF':5, 'adventure': 4, 'biography':5, 'comedy':4, 'thriller':4, 'musical':4, 'western':8, 'romance': 2, 'war':10, 'horror':4, 'sport':3, 'political':6, 'saga':3, 'satire':2, 'social':4, 'animation':2}\n",
    "#war_grades_df = pd.DataFrame(war_grades.items(), columns=['Genres', 'Grade'])\n",
    "#war_grades_df.set_index('Genres')"
   ]
  },
  {
   "cell_type": "code",
   "execution_count": 3,
   "metadata": {},
   "outputs": [],
   "source": [
    "#Function that will scrape a wikipedia page with a list of movies by year, add the year as a new column and return \n",
    "# a data frame.\n",
    "\n",
    "def get_table_after_1996(year):\n",
    "    #create the url \n",
    "    url = 'http://en.wikipedia.org/wiki/List_of_American_films_of_'+ str(year)\n",
    "    html = urlopen(url) \n",
    "    soup = BeautifulSoup(html, 'html.parser')\n",
    "    website_url = requests.get(url).text \n",
    "    soup = BeautifulSoup(website_url, 'lxml')\n",
    "    My_table = soup.find('table',{'class':'wikitable sortable'})\n",
    "    titles = []\n",
    "    directors = []\n",
    "    actors = []\n",
    "    genres = []\n",
    "    rows = My_table.find_all('tr')\n",
    "    for row in rows:\n",
    "        cells = row.find_all('td')\n",
    "        if len(cells)>=1:\n",
    "            title = cells[0]\n",
    "            titles.append(title.text)\n",
    "            director = cells[1]\n",
    "            directors.append(director.text)\n",
    "            actor = cells[2]\n",
    "            actors.append(actor.text)\n",
    "            genre = cells[3]\n",
    "            genres.append(genre.text)\n",
    "            index = [*range(1,len(titles)+1,1)]\n",
    "            df = pd.DataFrame({'Titles': titles,'Directors' : directors, 'Actors': actors, 'Genres': genres, }, index = index   )\n",
    "# add a year column             \n",
    "            #years = [year]*len(df)\n",
    "            #df['Year'] = years\n",
    "#create a list with all the genres from the \"Genres\" column and lower the case of each element\n",
    "            list_year_1 = df['Genres'].to_list()\n",
    "            lower_list = [x.lower() for x in list_year_1]\n",
    "#separate the genres where a movie has two or more genres\n",
    "            list_final = [x.split() for x in lower_list]\n",
    "            list_year = []\n",
    "            for sublist in list_final:\n",
    "                for item in sublist:\n",
    "                    list_year.append(item)  \n",
    "#some genres have comma attached, take off comma\n",
    "            list_year_no_comma = []\n",
    "            for item in list_year:\n",
    "                if ',' in item:\n",
    "                        list_year_no_comma.append(item[:-1])\n",
    "                else:\n",
    "                            list_year_no_comma.append(item)\n",
    "#print(list_year_no_comma)\n",
    "# Create a dictionary key- genres, value = number of movies of a certain genre\n",
    "            genre_counts = {}\n",
    "# Iterate through genre list\n",
    "            for genre in list_year_no_comma:\n",
    "# Update word counts - keep only genres in the general list of genres\n",
    "                if genre in list_of_genres:\n",
    "                    genre_counts[genre] = genre_counts.get(genre, 0) + 1 #Get previous entry, update by 1\n",
    "                else:\n",
    "                    continue\n",
    "#Set 'Genres' as df index\n",
    "            df_to_plot = pd.DataFrame(genre_counts.items(), columns=['Genres', 'year_1999'])\n",
    "            df_to_plot.set_index('Genres')\n",
    "# Join the the 2 Dataframes on 'Genres' column and replace NANs with mean value.\n",
    "            Zeitgeist_df1 = war_grades_df.join(df_to_plot.set_index('Genres'), on='Genres')\n",
    "            Zeitgeist_df1 = Zeitgeist_df1.fillna(5)\n",
    "#Create a column year_war_grade \n",
    "            Zeitgeist_df1['year_war_grade'] = Zeitgeist_df1['Grade']*Zeitgeist_df1['year_1999']\n",
    "            #Zeitgeist_df1\n",
    "# Add a year column\n",
    "            #year = 1999\n",
    "            years_final = [year]*len(Zeitgeist_df1)\n",
    "            Zeitgeist_df1['Year'] = years_final\n",
    "           \n",
    "    return Zeitgeist_df1\n"
   ]
  },
  {
   "cell_type": "code",
   "execution_count": 4,
   "metadata": {},
   "outputs": [],
   "source": [
    "pieces = []\n",
    "for year in [*range(1999, 2004,1)]:\n",
    "    url = 'http://en.wikipedia.org/wiki/List_of_American_films_of_'+ str(year)\n",
    "    df = get_table_after_1996(year)\n",
    "    pieces.append(df)\n",
    "\n"
   ]
  },
  {
   "cell_type": "code",
   "execution_count": 5,
   "metadata": {},
   "outputs": [],
   "source": [
    "df_all = pd.concat(pieces)\n",
    "df_all\n",
    "df_all.to_csv('9_11.csv', index=False, header= True)"
   ]
  },
  {
   "cell_type": "code",
   "execution_count": 6,
   "metadata": {
    "scrolled": true
   },
   "outputs": [],
   "source": [
    "grouped = df_all.groupby(['Year'])['year_war_grade'].sum()\n",
    "grouped.to_csv('grouped.csv', index='Year', header=True)"
   ]
  },
  {
   "cell_type": "code",
   "execution_count": 7,
   "metadata": {},
   "outputs": [
    {
     "data": {
      "text/plain": [
       "Year\n",
       "1999    1375.0\n",
       "2000    1279.0\n",
       "2001    1364.0\n",
       "2002    1495.0\n",
       "2003    1547.0\n",
       "Name: year_war_grade, dtype: float64"
      ]
     },
     "execution_count": 7,
     "metadata": {},
     "output_type": "execute_result"
    }
   ],
   "source": [
    "grouped\n",
    "\n"
   ]
  },
  {
   "cell_type": "code",
   "execution_count": null,
   "metadata": {},
   "outputs": [],
   "source": []
  },
  {
   "cell_type": "code",
   "execution_count": null,
   "metadata": {},
   "outputs": [],
   "source": []
  }
 ],
 "metadata": {
  "kernelspec": {
   "display_name": "Python [conda env:learn-env] *",
   "language": "python",
   "name": "conda-env-learn-env-py"
  },
  "language_info": {
   "codemirror_mode": {
    "name": "ipython",
    "version": 3
   },
   "file_extension": ".py",
   "mimetype": "text/x-python",
   "name": "python",
   "nbconvert_exporter": "python",
   "pygments_lexer": "ipython3",
   "version": "3.6.9"
  }
 },
 "nbformat": 4,
 "nbformat_minor": 2
}

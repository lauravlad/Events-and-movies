{
 "cells": [
  {
   "cell_type": "code",
   "execution_count": 2,
   "metadata": {},
   "outputs": [],
   "source": [
    "# Import necessary packages\n",
    "import requests\n",
    "import urllib.request\n",
    "import time\n",
    "from bs4 import BeautifulSoup\n",
    "import numpy as np\n",
    "import pandas as pd\n",
    "from urllib.request import urlopen\n",
    "import matplotlib.pyplot as plt\n",
    "%matplotlib inline\n",
    "import seaborn as sns"
   ]
  },
  {
   "cell_type": "code",
   "execution_count": 39,
   "metadata": {},
   "outputs": [
    {
     "data": {
      "text/plain": [
       "str"
      ]
     },
     "execution_count": 39,
     "metadata": {},
     "output_type": "execute_result"
    }
   ],
   "source": [
    "df_IMDB = pd.read_csv('IMDB1980_2019.csv')\n",
    "df_IMDB.year.head()\n",
    "#grouped_by_year = df_IMDB.groupby('year')\n",
    "#df_IMDB['Genres']=df_IMDB.genre.map(lambda x: x[21:])\n",
    "#df_IMDB['Years']=df_IMDB['year'].map(lambda x: x[-5:-2])\n",
    "#df_IMDB.year[0][1:5]\n",
    "#grouped_by_year.head()"
   ]
  },
  {
   "cell_type": "code",
   "execution_count": 24,
   "metadata": {},
   "outputs": [
    {
     "data": {
      "text/plain": [
       "<bound method NDFrame.groupby of                                             name    year  \\\n",
       "0                                  The Gentlemen  (2019)   \n",
       "1               Once Upon a Time... in Hollywood  (2019)   \n",
       "2                                     Knives Out  (2019)   \n",
       "3                                           1917  (2019)   \n",
       "4                                   Little Women  (2019)   \n",
       "...                                          ...     ...   \n",
       "9372  Bob Mazooka: Fun Time Action Hour for Kids  (2013)   \n",
       "9373                    The Wake of Dick Johnson  (2016)   \n",
       "9374                                 116 Muscles  (2009)   \n",
       "9375                    You Used to Be Beautiful  (2012)   \n",
       "9376                               Paper Ketchup  (2010)   \n",
       "\n",
       "                                                  genre  \n",
       "0     <span class=\"genre\">\\nAction, Comedy, Crime   ...  \n",
       "1     <span class=\"genre\">\\nComedy, Drama           ...  \n",
       "2     <span class=\"genre\">\\nComedy, Crime, Drama    ...  \n",
       "3     <span class=\"genre\">\\nDrama, War            </...  \n",
       "4     <span class=\"genre\">\\nDrama, Romance          ...  \n",
       "...                                                 ...  \n",
       "9372    <span class=\"genre\">\\nComedy            </span>  \n",
       "9373     <span class=\"genre\">\\nDrama            </span>  \n",
       "9374     <span class=\"genre\">\\nDrama            </span>  \n",
       "9375  <span class=\"genre\">\\nComedy, Drama, Romance  ...  \n",
       "9376  <span class=\"genre\">\\nComedy, Musical, Romance...  \n",
       "\n",
       "[9377 rows x 3 columns]>"
      ]
     },
     "execution_count": 24,
     "metadata": {},
     "output_type": "execute_result"
    }
   ],
   "source": [
    "df_IMDB.groupby"
   ]
  },
  {
   "cell_type": "code",
   "execution_count": null,
   "metadata": {},
   "outputs": [],
   "source": [
    "war_grades = {'children':1, 'fantasy':3, 'magical':3, 'mystery':4, 'action':7, 'crime':8, 'drama':7, 'SF':5, 'adventure': 4, 'biography':5, 'comedy':4, 'thriller':4, 'musical':4, 'western':8, 'romance': 2, 'war':10, 'horror':4, 'sport':3, 'political':6, 'saga':3, 'satire':2, 'social':4, 'animation':2}\n",
    "len(war_grades)\n",
    "war_grades_df = pd.DataFrame(war_grades.items(), columns=['Genres', 'Grade'])\n",
    "war_grades_df.set_index('Genres')"
   ]
  },
  {
   "cell_type": "code",
   "execution_count": null,
   "metadata": {},
   "outputs": [],
   "source": [
    "df_1999 = get_table_after_1996(1999)\n",
    "#create a list with all the movie genres\n",
    "list_of_genres = ['children', 'fantasy', 'magical', 'mystery', 'action', 'crime', 'drama', 'science fiction', 'adventure', 'biography', 'comedy', 'thriller', 'musical', 'western', 'romance', 'animation', 'war', 'horror', 'sport', 'political', 'saga', ' satire', 'social']\n",
    "len(list_of_genres)\n",
    "#create a dictionary that will give war grades by genre\n"
   ]
  },
  {
   "cell_type": "code",
   "execution_count": null,
   "metadata": {},
   "outputs": [],
   "source": [
    "    df = pd.DataFrame({'Titles': titles,'Directors' : directors, 'Actors': actors, 'Genres': genres, }, index = index   )\n",
    "# add a year column             \n",
    "            #years = [year]*len(df)\n",
    "            #df['Year'] = years\n",
    "#create a list with all the genres from the \"Genres\" column and lower the case of each element\n",
    "            list_year_1 = df['Genres'].to_list()\n",
    "            lower_list = [x.lower() for x in list_year_1]\n",
    "#separate the genres where a movie has two or more genres\n",
    "            list_final = [x.split() for x in lower_list]\n",
    "            list_year = []\n",
    "            for sublist in list_final:\n",
    "                for item in sublist:\n",
    "                    list_year.append(item)  \n",
    "#some genres have comma attached, take off comma\n",
    "            list_year_no_comma = []\n",
    "            for item in list_year:\n",
    "                if ',' in item:\n",
    "                        list_year_no_comma.append(item[:-1])\n",
    "                else:\n",
    "                            list_year_no_comma.append(item)\n",
    "#print(list_year_no_comma)\n",
    "# Create a dictionary key- genres, value = number of movies of a certain genre\n",
    "            genre_counts = {}\n",
    "# Iterate through genre list\n",
    "            for genre in list_year_no_comma:\n",
    "# Update word counts - keep only genres in the general list of genres\n",
    "                if genre in list_of_genres:\n",
    "                    genre_counts[genre] = genre_counts.get(genre, 0) + 1 #Get previous entry, update by 1\n",
    "                else:\n",
    "                    continue\n",
    "#Set 'Genres' as df index\n",
    "            df_to_plot = pd.DataFrame(genre_counts.items(), columns=['Genres', 'year_1999'])\n",
    "            df_to_plot.set_index('Genres')\n",
    "# Join the the 2 Dataframes on 'Genres' column and replace NANs with mean value.\n",
    "            #Zeitgeist_df1 = war_grades_df.join(df_to_plot.set_index('Genres'), on='Genres')\n",
    "            #Zeitgeist_df1 = Zeitgeist_df1.fillna(5)\n",
    "#Create a column year_war_grade \n",
    "            #Zeitgeist_df1['year_war_grade'] = Zeitgeist_df1['Grade']*Zeitgeist_df1['year_1999']\n",
    "            #Zeitgeist_df1\n",
    "# Add a year column\n",
    "            #year = 1999\n",
    "            years_final = [year]*len(df_to_plot)\n",
    "            df_to_plot['Year'] = years_final\n",
    "           \n",
    "    return df_to_plot\n"
   ]
  }
 ],
 "metadata": {
  "kernelspec": {
   "display_name": "Python [conda env:learn-env] *",
   "language": "python",
   "name": "conda-env-learn-env-py"
  },
  "language_info": {
   "codemirror_mode": {
    "name": "ipython",
    "version": 3
   },
   "file_extension": ".py",
   "mimetype": "text/x-python",
   "name": "python",
   "nbconvert_exporter": "python",
   "pygments_lexer": "ipython3",
   "version": "3.6.9"
  }
 },
 "nbformat": 4,
 "nbformat_minor": 2
}

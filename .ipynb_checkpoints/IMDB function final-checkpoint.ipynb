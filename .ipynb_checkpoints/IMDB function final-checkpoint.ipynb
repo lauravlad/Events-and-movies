{
 "cells": [
  {
   "cell_type": "code",
   "execution_count": 13,
   "metadata": {},
   "outputs": [],
   "source": [
    "# Import necessary packages\n",
    "import requests\n",
    "import urllib.request\n",
    "import time\n",
    "from bs4 import BeautifulSoup\n",
    "import numpy as np\n",
    "import pandas as pd\n",
    "from urllib.request import urlopen\n",
    "import matplotlib.pyplot as plt\n",
    "%matplotlib inline"
   ]
  },
  {
   "cell_type": "code",
   "execution_count": 81,
   "metadata": {},
   "outputs": [],
   "source": [
    "#Works\n",
    "def get_IMDB_names(url):\n",
    "    rn = requests.get(url)\n",
    "    soup = BeautifulSoup(rn.text, 'html.parser')\n",
    "    movie_containers = soup.find_all('div', class_ = 'lister-item mode-advanced')\n",
    "    names = []\n",
    "    for container in movie_containers:\n",
    "# Extract:\n",
    "# The name\n",
    "        name = container.select('img')[0]['alt']\n",
    "        names.append(name)\n",
    "    return names\n",
    "#get_IMDB_names('https://www.imdb.com/search/title/?title_type=feature&release_date=1980-01-01,2019-12-31&user_rating=7.0,10.0&countries=us&count=250')"
   ]
  },
  {
   "cell_type": "code",
   "execution_count": 82,
   "metadata": {},
   "outputs": [],
   "source": [
    "#Works\n",
    "def get_IMDB_years(url):\n",
    "    ry = requests.get(url)\n",
    "    soup = BeautifulSoup(ry.text, 'html.parser')\n",
    "    movie_containers = soup.find_all('div', class_ = 'lister-item mode-advanced')\n",
    "    years = []\n",
    "    for container in movie_containers:\n",
    "        # The year\n",
    "        year = container.find('span', class_ = 'lister-item-year').text\n",
    "        year = str(year)\n",
    "        years.append(year)\n",
    "        year = str(year)\n",
    "        year = year[1:5]\n",
    "    return years\n",
    "#get_IMDB_years('https://www.imdb.com/search/title/?title_type=feature&release_date=1980-01-01,2019-12-31&user_rating=7.0,10.0&countries=us&count=250')"
   ]
  },
  {
   "cell_type": "code",
   "execution_count": 98,
   "metadata": {},
   "outputs": [],
   "source": [
    "#Works\n",
    "def get_IMDB_genres(url):\n",
    "    rg = requests.get(url)\n",
    "    soup = BeautifulSoup(rg.text, 'html.parser')\n",
    "    movie_containers = soup.find_all('div', class_ = 'lister-item mode-advanced')\n",
    "    genres =[] \n",
    "    for container in movie_containers:\n",
    "        genre_container = container.find('p')\n",
    "        genre = genre_container.find('span', class_='genre')\n",
    "        #genre = genre.text\n",
    "        #genre = str(genre)\n",
    "        #genre = genre[1:]\n",
    "        genres.append(genre)\n",
    "    return genres\n",
    "#get_IMDB_genres('https://www.imdb.com/search/title/?title_type=feature&release_date=1980-01-01,2019-12-31&user_rating=7.0,10.0&countries=us&count=250&start=2001&ref_=adv_nxt')"
   ]
  },
  {
   "cell_type": "code",
   "execution_count": 101,
   "metadata": {},
   "outputs": [],
   "source": [
    "def get_IMDB_table(url):\n",
    "    names = get_IMDB_names(url)\n",
    "    years = get_IMDB_years(url)\n",
    "    genres = get_IMDB_genres(url)\n",
    "    initial_df = pd.DataFrame({'name': names, 'year' : years, 'genre': genres,})\n",
    "    return initial_df\n",
    "#get_IMDB_table('https://www.imdb.com/search/title/?title_type=feature&release_date=1980-01-01,2019-12-31&user_rating=7.0,10.0&countries=us&count=250')"
   ]
  },
  {
   "cell_type": "code",
   "execution_count": 41,
   "metadata": {
    "scrolled": true
   },
   "outputs": [],
   "source": [
    "url1 ='https://www.imdb.com/search/title/?title_type=feature&release_date=1980-01-01,2019-12-31&user_rating=7.0,10.0&countries=us&count=250'\n",
    "url2 ='https://www.imdb.com/search/title/?title_type=feature&release_date=1980-01-01,2019-12-31&user_rating=7.0,10.0&countries=us&count=250&start=251&ref_=adv_nxt'\n",
    "url3 ='https://www.imdb.com/search/title/?title_type=feature&release_date=1980-01-01,2019-12-31&user_rating=7.0,10.0&countries=us&count=250&start=501&ref_=adv_nxt'\n",
    "url4 ='https://www.imdb.com/search/title/?title_type=feature&release_date=1980-01-01,2019-12-31&user_rating=7.0,10.0&countries=us&count=250&start=751&ref_=adv_nxt'\n",
    "url5 ='https://www.imdb.com/search/title/?title_type=feature&release_date=1980-01-01,2019-12-31&user_rating=7.0,10.0&countries=us&count=250&start=1001&ref_=adv_nxt'\n",
    "url6 ='https://www.imdb.com/search/title/?title_type=feature&release_date=1980-01-01,2019-12-31&user_rating=7.0,10.0&countries=us&count=250&start=1251&ref_=adv_nxt'\n",
    "url7 ='https://www.imdb.com/search/title/?title_type=feature&release_date=1980-01-01,2019-12-31&user_rating=7.0,10.0&countries=us&count=250&start=1501&ref_=adv_nxt'\n",
    "url8 ='https://www.imdb.com/search/title/?title_type=feature&release_date=1980-01-01,2019-12-31&user_rating=7.0,10.0&countries=us&count=250&start=1751&ref_=adv_nxt'\n",
    "url9='https://www.imdb.com/search/title/?title_type=feature&release_date=1980-01-01,2019-12-31&user_rating=7.0,10.0&countries=us&count=250&start=2001&ref_=adv_nxt'\n",
    "url10 ='https://www.imdb.com/search/title/?title_type=feature&release_date=1980-01-01,2019-12-31&user_rating=7.0,10.0&countries=us&count=250&start=2251&ref_=adv_nxt'\n",
    "url11 ='https://www.imdb.com/search/title/?title_type=feature&release_date=1980-01-01,2019-12-31&user_rating=7.0,10.0&countries=us&count=250&start=2501&ref_=adv_nxt'\n",
    "url12='https://www.imdb.com/search/title/?title_type=feature&release_date=1980-01-01,2019-12-31&user_rating=7.0,10.0&countries=us&count=250&start=2751&ref_=adv_nxt'\n",
    "url13='https://www.imdb.com/search/title/?title_type=feature&release_date=1980-01-01,2019-12-31&user_rating=7.0,10.0&countries=us&count=250&start=3001&ref_=adv_nxt'\n",
    "url14='https://www.imdb.com/search/title/?title_type=feature&release_date=1980-01-01,2019-12-31&user_rating=7.0,10.0&countries=us&count=250&start=3251&ref_=adv_nxt'\n",
    "url15='https://www.imdb.com/search/title/?title_type=feature&release_date=1980-01-01,2019-12-31&user_rating=7.0,10.0&countries=us&count=250&start=3501&ref_=adv_nxt'\n",
    "url16='https://www.imdb.com/search/title/?title_type=feature&release_date=1980-01-01,2019-12-31&user_rating=7.0,10.0&countries=us&count=250&start=3751&ref_=adv_nxt'\n",
    "url17='https://www.imdb.com/search/title/?title_type=feature&release_date=1980-01-01,2019-12-31&user_rating=7.0,10.0&countries=us&count=250&start=4001&ref_=adv_nxt'\n",
    "url18='https://www.imdb.com/search/title/?title_type=feature&release_date=1980-01-01,2019-12-31&user_rating=7.0,10.0&countries=us&count=250&start=4251&ref_=adv_nxt'\n",
    "url19='https://www.imdb.com/search/title/?title_type=feature&release_date=1980-01-01,2019-12-31&user_rating=7.0,10.0&countries=us&count=250&start=4501&ref_=adv_nxt'\n",
    "url20='https://www.imdb.com/search/title/?title_type=feature&release_date=1980-01-01,2019-12-31&user_rating=7.0,10.0&countries=us&count=250&start=4751&ref_=adv_nxt'\n",
    "url21='https://www.imdb.com/search/title/?title_type=feature&release_date=1980-01-01,2019-12-31&user_rating=7.0,10.0&countries=us&count=250&start=5001&ref_=adv_nxt'\n",
    "url22='https://www.imdb.com/search/title/?title_type=feature&release_date=1980-01-01,2019-12-31&user_rating=7.0,10.0&countries=us&count=250&start=5251&ref_=adv_nxt'\n",
    "url23='https://www.imdb.com/search/title/?title_type=feature&release_date=1980-01-01,2019-12-31&user_rating=7.0,10.0&countries=us&count=250&start=5501&ref_=adv_nxt'\n",
    "url24='https://www.imdb.com/search/title/?title_type=feature&release_date=1980-01-01,2019-12-31&user_rating=7.0,10.0&countries=us&count=250&start=5751&ref_=adv_nxt'\n",
    "url25='https://www.imdb.com/search/title/?title_type=feature&release_date=1980-01-01,2019-12-31&user_rating=7.0,10.0&countries=us&count=250&start=6001&ref_=adv_nxt'\n",
    "url26='https://www.imdb.com/search/title/?title_type=feature&release_date=1980-01-01,2019-12-31&user_rating=7.0,10.0&countries=us&count=250&start=6251&ref_=adv_nxt'\n",
    "url27='https://www.imdb.com/search/title/?title_type=feature&release_date=1980-01-01,2019-12-31&user_rating=7.0,10.0&countries=us&count=250&start=6501&ref_=adv_nxt'\n",
    "url28='https://www.imdb.com/search/title/?title_type=feature&release_date=1980-01-01,2019-12-31&user_rating=7.0,10.0&countries=us&count=250&start=6751&ref_=adv_nxt'\n",
    "url29='https://www.imdb.com/search/title/?title_type=feature&release_date=1980-01-01,2019-12-31&user_rating=7.0,10.0&countries=us&count=250&start=7001&ref_=adv_nxt'\n",
    "url30='https://www.imdb.com/search/title/?title_type=feature&release_date=1980-01-01,2019-12-31&user_rating=7.0,10.0&countries=us&count=250&start=7251&ref_=adv_nxt'\n",
    "url31='https://www.imdb.com/search/title/?title_type=feature&release_date=1980-01-01,2019-12-31&user_rating=7.0,10.0&countries=us&count=250&start=7501&ref_=adv_nxt'\n",
    "url32='https://www.imdb.com/search/title/?title_type=feature&release_date=1980-01-01,2019-12-31&user_rating=7.0,10.0&countries=us&count=250&start=7751&ref_=adv_nxt'\n",
    "url33='https://www.imdb.com/search/title/?title_type=feature&release_date=1980-01-01,2019-12-31&user_rating=7.0,10.0&countries=us&count=250&start=8001&ref_=adv_nxt'\n",
    "url34='https://www.imdb.com/search/title/?title_type=feature&release_date=1980-01-01,2019-12-31&user_rating=7.0,10.0&countries=us&count=250&start=8251&ref_=adv_nxt'\n",
    "url35='https://www.imdb.com/search/title/?title_type=feature&release_date=1980-01-01,2019-12-31&user_rating=7.0,10.0&countries=us&count=250&start=8501&ref_=adv_nxt'\n",
    "url36='https://www.imdb.com/search/title/?title_type=feature&release_date=1980-01-01,2019-12-31&user_rating=7.0,10.0&countries=us&count=250&start=8751&ref_=adv_nxt'\n",
    "url37='https://www.imdb.com/search/title/?title_type=feature&release_date=1980-01-01,2019-12-31&user_rating=7.0,10.0&countries=us&count=250&start=9001&ref_=adv_nxt'\n",
    "url38='https://www.imdb.com/search/title/?title_type=feature&release_date=1980-01-01,2019-12-31&user_rating=7.0,10.0&countries=us&count=250&start=9251&ref_=adv_nxt'\n",
    "url_list=[url1, url2, url3, url4, url5, url6, url7, url8, url9, url10, url11, url12, url13, url14, url15, url16, url17, url18, url19, url20, url21, url22, url23, url24, url25, url26, url27, url28, url29,\n",
    "         url30,url31,url32,url33,url34,url35,url36,url37,url38]\n",
    "\n"
   ]
  },
  {
   "cell_type": "code",
   "execution_count": 97,
   "metadata": {},
   "outputs": [],
   "source": [
    "pieces = []\n",
    "for url in url_list:\n",
    "    part_df = get_IMDB_table(url)\n",
    "    pieces.append(part_df)\n",
    "df_all = pd.concat(pieces)\n",
    "df_all.to_csv('IMDB1980_2019.csv', index=False, header= True)"
   ]
  },
  {
   "cell_type": "code",
   "execution_count": 102,
   "metadata": {},
   "outputs": [
    {
     "data": {
      "text/html": [
       "<div>\n",
       "<style scoped>\n",
       "    .dataframe tbody tr th:only-of-type {\n",
       "        vertical-align: middle;\n",
       "    }\n",
       "\n",
       "    .dataframe tbody tr th {\n",
       "        vertical-align: top;\n",
       "    }\n",
       "\n",
       "    .dataframe thead th {\n",
       "        text-align: right;\n",
       "    }\n",
       "</style>\n",
       "<table border=\"1\" class=\"dataframe\">\n",
       "  <thead>\n",
       "    <tr style=\"text-align: right;\">\n",
       "      <th></th>\n",
       "      <th>name</th>\n",
       "      <th>year</th>\n",
       "      <th>genre</th>\n",
       "    </tr>\n",
       "  </thead>\n",
       "  <tbody>\n",
       "    <tr>\n",
       "      <td>0</td>\n",
       "      <td>The Gentlemen</td>\n",
       "      <td>(2019)</td>\n",
       "      <td>[\\nAction, Comedy, Crime            ]</td>\n",
       "    </tr>\n",
       "    <tr>\n",
       "      <td>1</td>\n",
       "      <td>Once Upon a Time... in Hollywood</td>\n",
       "      <td>(2019)</td>\n",
       "      <td>[\\nComedy, Drama            ]</td>\n",
       "    </tr>\n",
       "    <tr>\n",
       "      <td>2</td>\n",
       "      <td>Knives Out</td>\n",
       "      <td>(2019)</td>\n",
       "      <td>[\\nComedy, Crime, Drama            ]</td>\n",
       "    </tr>\n",
       "    <tr>\n",
       "      <td>3</td>\n",
       "      <td>1917</td>\n",
       "      <td>(2019)</td>\n",
       "      <td>[\\nDrama, War            ]</td>\n",
       "    </tr>\n",
       "    <tr>\n",
       "      <td>4</td>\n",
       "      <td>Little Women</td>\n",
       "      <td>(2019)</td>\n",
       "      <td>[\\nDrama, Romance            ]</td>\n",
       "    </tr>\n",
       "  </tbody>\n",
       "</table>\n",
       "</div>"
      ],
      "text/plain": [
       "                               name    year  \\\n",
       "0                     The Gentlemen  (2019)   \n",
       "1  Once Upon a Time... in Hollywood  (2019)   \n",
       "2                        Knives Out  (2019)   \n",
       "3                              1917  (2019)   \n",
       "4                      Little Women  (2019)   \n",
       "\n",
       "                                   genre  \n",
       "0  [\\nAction, Comedy, Crime            ]  \n",
       "1          [\\nComedy, Drama            ]  \n",
       "2   [\\nComedy, Crime, Drama            ]  \n",
       "3             [\\nDrama, War            ]  \n",
       "4         [\\nDrama, Romance            ]  "
      ]
     },
     "execution_count": 102,
     "metadata": {},
     "output_type": "execute_result"
    }
   ],
   "source": [
    "df1 = get_IMDB_table(url1)\n",
    "df1.head()"
   ]
  },
  {
   "cell_type": "code",
   "execution_count": null,
   "metadata": {},
   "outputs": [],
   "source": []
  }
 ],
 "metadata": {
  "kernelspec": {
   "display_name": "Python [conda env:learn-env] *",
   "language": "python",
   "name": "conda-env-learn-env-py"
  },
  "language_info": {
   "codemirror_mode": {
    "name": "ipython",
    "version": 3
   },
   "file_extension": ".py",
   "mimetype": "text/x-python",
   "name": "python",
   "nbconvert_exporter": "python",
   "pygments_lexer": "ipython3",
   "version": "3.6.9"
  }
 },
 "nbformat": 4,
 "nbformat_minor": 2
}

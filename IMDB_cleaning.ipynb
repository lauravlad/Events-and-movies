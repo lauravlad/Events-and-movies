{
 "cells": [
  {
   "cell_type": "code",
   "execution_count": 1,
   "metadata": {},
   "outputs": [],
   "source": [
    "# Import necessary packages\n",
    "import numpy as np\n",
    "import pandas as pd\n",
    "import matplotlib.pyplot as plt\n",
    "%matplotlib inline\n",
    "import seaborn as sns"
   ]
  },
  {
   "cell_type": "code",
   "execution_count": 2,
   "metadata": {},
   "outputs": [
    {
     "data": {
      "text/html": [
       "<div>\n",
       "<style scoped>\n",
       "    .dataframe tbody tr th:only-of-type {\n",
       "        vertical-align: middle;\n",
       "    }\n",
       "\n",
       "    .dataframe tbody tr th {\n",
       "        vertical-align: top;\n",
       "    }\n",
       "\n",
       "    .dataframe thead th {\n",
       "        text-align: right;\n",
       "    }\n",
       "</style>\n",
       "<table border=\"1\" class=\"dataframe\">\n",
       "  <thead>\n",
       "    <tr style=\"text-align: right;\">\n",
       "      <th></th>\n",
       "      <th>name</th>\n",
       "      <th>genre</th>\n",
       "      <th>year</th>\n",
       "    </tr>\n",
       "  </thead>\n",
       "  <tbody>\n",
       "    <tr>\n",
       "      <td>0</td>\n",
       "      <td>Mondo Sexxxx: The Terry Kobrah Story</td>\n",
       "      <td>&lt;span class=\"genre\"&gt;\\nComedy, Drama, Horror   ...</td>\n",
       "      <td>1980</td>\n",
       "    </tr>\n",
       "    <tr>\n",
       "      <td>1</td>\n",
       "      <td>09</td>\n",
       "      <td>&lt;span class=\"genre\"&gt;\\nDrama            &lt;/span&gt;</td>\n",
       "      <td>1980</td>\n",
       "    </tr>\n",
       "    <tr>\n",
       "      <td>2</td>\n",
       "      <td>Sin pecado</td>\n",
       "      <td>&lt;span class=\"genre\"&gt;\\nDrama, Fantasy, Mystery ...</td>\n",
       "      <td>1980</td>\n",
       "    </tr>\n",
       "    <tr>\n",
       "      <td>3</td>\n",
       "      <td>Paper Ketchup</td>\n",
       "      <td>&lt;span class=\"genre\"&gt;\\nComedy, Musical, Romance...</td>\n",
       "      <td>1980</td>\n",
       "    </tr>\n",
       "    <tr>\n",
       "      <td>4</td>\n",
       "      <td>You Used to Be Beautiful</td>\n",
       "      <td>&lt;span class=\"genre\"&gt;\\nComedy, Drama, Romance  ...</td>\n",
       "      <td>1980</td>\n",
       "    </tr>\n",
       "  </tbody>\n",
       "</table>\n",
       "</div>"
      ],
      "text/plain": [
       "                                   name  \\\n",
       "0  Mondo Sexxxx: The Terry Kobrah Story   \n",
       "1                                    09   \n",
       "2                            Sin pecado   \n",
       "3                         Paper Ketchup   \n",
       "4              You Used to Be Beautiful   \n",
       "\n",
       "                                               genre  year  \n",
       "0  <span class=\"genre\">\\nComedy, Drama, Horror   ...  1980  \n",
       "1     <span class=\"genre\">\\nDrama            </span>  1980  \n",
       "2  <span class=\"genre\">\\nDrama, Fantasy, Mystery ...  1980  \n",
       "3  <span class=\"genre\">\\nComedy, Musical, Romance...  1980  \n",
       "4  <span class=\"genre\">\\nComedy, Drama, Romance  ...  1980  "
      ]
     },
     "execution_count": 2,
     "metadata": {},
     "output_type": "execute_result"
    }
   ],
   "source": [
    "df = pd.read_csv('IMDB_popularity_80_19.csv')\n",
    "df.head()"
   ]
  },
  {
   "cell_type": "code",
   "execution_count": 3,
   "metadata": {},
   "outputs": [
    {
     "data": {
      "text/html": [
       "<div>\n",
       "<style scoped>\n",
       "    .dataframe tbody tr th:only-of-type {\n",
       "        vertical-align: middle;\n",
       "    }\n",
       "\n",
       "    .dataframe tbody tr th {\n",
       "        vertical-align: top;\n",
       "    }\n",
       "\n",
       "    .dataframe thead th {\n",
       "        text-align: right;\n",
       "    }\n",
       "</style>\n",
       "<table border=\"1\" class=\"dataframe\">\n",
       "  <thead>\n",
       "    <tr style=\"text-align: right;\">\n",
       "      <th></th>\n",
       "      <th>name</th>\n",
       "      <th>genre</th>\n",
       "      <th>year</th>\n",
       "    </tr>\n",
       "  </thead>\n",
       "  <tbody>\n",
       "    <tr>\n",
       "      <td>0</td>\n",
       "      <td>Mondo Sexxxx: The Terry Kobrah Story</td>\n",
       "      <td>&lt;span class=\"genre\"&gt;\\nComedy, Drama, Horror   ...</td>\n",
       "      <td>1980</td>\n",
       "    </tr>\n",
       "    <tr>\n",
       "      <td>1</td>\n",
       "      <td>09</td>\n",
       "      <td>&lt;span class=\"genre\"&gt;\\nDrama            &lt;/span&gt;</td>\n",
       "      <td>1980</td>\n",
       "    </tr>\n",
       "    <tr>\n",
       "      <td>2</td>\n",
       "      <td>Sin pecado</td>\n",
       "      <td>&lt;span class=\"genre\"&gt;\\nDrama, Fantasy, Mystery ...</td>\n",
       "      <td>1980</td>\n",
       "    </tr>\n",
       "    <tr>\n",
       "      <td>3</td>\n",
       "      <td>Paper Ketchup</td>\n",
       "      <td>&lt;span class=\"genre\"&gt;\\nComedy, Musical, Romance...</td>\n",
       "      <td>1980</td>\n",
       "    </tr>\n",
       "    <tr>\n",
       "      <td>4</td>\n",
       "      <td>You Used to Be Beautiful</td>\n",
       "      <td>&lt;span class=\"genre\"&gt;\\nComedy, Drama, Romance  ...</td>\n",
       "      <td>1980</td>\n",
       "    </tr>\n",
       "  </tbody>\n",
       "</table>\n",
       "</div>"
      ],
      "text/plain": [
       "                                   name  \\\n",
       "0  Mondo Sexxxx: The Terry Kobrah Story   \n",
       "1                                    09   \n",
       "2                            Sin pecado   \n",
       "3                         Paper Ketchup   \n",
       "4              You Used to Be Beautiful   \n",
       "\n",
       "                                               genre  year  \n",
       "0  <span class=\"genre\">\\nComedy, Drama, Horror   ...  1980  \n",
       "1     <span class=\"genre\">\\nDrama            </span>  1980  \n",
       "2  <span class=\"genre\">\\nDrama, Fantasy, Mystery ...  1980  \n",
       "3  <span class=\"genre\">\\nComedy, Musical, Romance...  1980  \n",
       "4  <span class=\"genre\">\\nComedy, Drama, Romance  ...  1980  "
      ]
     },
     "execution_count": 3,
     "metadata": {},
     "output_type": "execute_result"
    }
   ],
   "source": [
    "df['genre']=df['genre'].map(lambda x: str(x))\n",
    "df.head()\n",
    "\n",
    "\n"
   ]
  },
  {
   "cell_type": "code",
   "execution_count": 4,
   "metadata": {},
   "outputs": [
    {
     "data": {
      "text/html": [
       "<div>\n",
       "<style scoped>\n",
       "    .dataframe tbody tr th:only-of-type {\n",
       "        vertical-align: middle;\n",
       "    }\n",
       "\n",
       "    .dataframe tbody tr th {\n",
       "        vertical-align: top;\n",
       "    }\n",
       "\n",
       "    .dataframe thead th {\n",
       "        text-align: right;\n",
       "    }\n",
       "</style>\n",
       "<table border=\"1\" class=\"dataframe\">\n",
       "  <thead>\n",
       "    <tr style=\"text-align: right;\">\n",
       "      <th></th>\n",
       "      <th>name</th>\n",
       "      <th>genre</th>\n",
       "      <th>year</th>\n",
       "    </tr>\n",
       "  </thead>\n",
       "  <tbody>\n",
       "    <tr>\n",
       "      <td>0</td>\n",
       "      <td>Mondo Sexxxx: The Terry Kobrah Story</td>\n",
       "      <td>[&lt;span, class=\"genre\"&gt;, Comedy,, Drama,, Horro...</td>\n",
       "      <td>1980</td>\n",
       "    </tr>\n",
       "    <tr>\n",
       "      <td>1</td>\n",
       "      <td>09</td>\n",
       "      <td>[&lt;span, class=\"genre\"&gt;, Drama, &lt;/span&gt;]</td>\n",
       "      <td>1980</td>\n",
       "    </tr>\n",
       "    <tr>\n",
       "      <td>2</td>\n",
       "      <td>Sin pecado</td>\n",
       "      <td>[&lt;span, class=\"genre\"&gt;, Drama,, Fantasy,, Myst...</td>\n",
       "      <td>1980</td>\n",
       "    </tr>\n",
       "    <tr>\n",
       "      <td>3</td>\n",
       "      <td>Paper Ketchup</td>\n",
       "      <td>[&lt;span, class=\"genre\"&gt;, Comedy,, Musical,, Rom...</td>\n",
       "      <td>1980</td>\n",
       "    </tr>\n",
       "    <tr>\n",
       "      <td>4</td>\n",
       "      <td>You Used to Be Beautiful</td>\n",
       "      <td>[&lt;span, class=\"genre\"&gt;, Comedy,, Drama,, Roman...</td>\n",
       "      <td>1980</td>\n",
       "    </tr>\n",
       "  </tbody>\n",
       "</table>\n",
       "</div>"
      ],
      "text/plain": [
       "                                   name  \\\n",
       "0  Mondo Sexxxx: The Terry Kobrah Story   \n",
       "1                                    09   \n",
       "2                            Sin pecado   \n",
       "3                         Paper Ketchup   \n",
       "4              You Used to Be Beautiful   \n",
       "\n",
       "                                               genre  year  \n",
       "0  [<span, class=\"genre\">, Comedy,, Drama,, Horro...  1980  \n",
       "1            [<span, class=\"genre\">, Drama, </span>]  1980  \n",
       "2  [<span, class=\"genre\">, Drama,, Fantasy,, Myst...  1980  \n",
       "3  [<span, class=\"genre\">, Comedy,, Musical,, Rom...  1980  \n",
       "4  [<span, class=\"genre\">, Comedy,, Drama,, Roman...  1980  "
      ]
     },
     "execution_count": 4,
     "metadata": {},
     "output_type": "execute_result"
    }
   ],
   "source": [
    "df['genre']=df['genre'].map(lambda x: x.split())\n",
    "df.head()"
   ]
  },
  {
   "cell_type": "code",
   "execution_count": 5,
   "metadata": {
    "scrolled": true
   },
   "outputs": [
    {
     "data": {
      "text/html": [
       "<div>\n",
       "<style scoped>\n",
       "    .dataframe tbody tr th:only-of-type {\n",
       "        vertical-align: middle;\n",
       "    }\n",
       "\n",
       "    .dataframe tbody tr th {\n",
       "        vertical-align: top;\n",
       "    }\n",
       "\n",
       "    .dataframe thead th {\n",
       "        text-align: right;\n",
       "    }\n",
       "</style>\n",
       "<table border=\"1\" class=\"dataframe\">\n",
       "  <thead>\n",
       "    <tr style=\"text-align: right;\">\n",
       "      <th></th>\n",
       "      <th>name</th>\n",
       "      <th>genre</th>\n",
       "      <th>year</th>\n",
       "    </tr>\n",
       "  </thead>\n",
       "  <tbody>\n",
       "    <tr>\n",
       "      <td>0</td>\n",
       "      <td>Mondo Sexxxx: The Terry Kobrah Story</td>\n",
       "      <td>[Comedy,, Drama,, Horror]</td>\n",
       "      <td>1980</td>\n",
       "    </tr>\n",
       "    <tr>\n",
       "      <td>1</td>\n",
       "      <td>09</td>\n",
       "      <td>[Drama]</td>\n",
       "      <td>1980</td>\n",
       "    </tr>\n",
       "    <tr>\n",
       "      <td>2</td>\n",
       "      <td>Sin pecado</td>\n",
       "      <td>[Drama,, Fantasy,, Mystery]</td>\n",
       "      <td>1980</td>\n",
       "    </tr>\n",
       "    <tr>\n",
       "      <td>3</td>\n",
       "      <td>Paper Ketchup</td>\n",
       "      <td>[Comedy,, Musical,, Romance]</td>\n",
       "      <td>1980</td>\n",
       "    </tr>\n",
       "    <tr>\n",
       "      <td>4</td>\n",
       "      <td>You Used to Be Beautiful</td>\n",
       "      <td>[Comedy,, Drama,, Romance]</td>\n",
       "      <td>1980</td>\n",
       "    </tr>\n",
       "  </tbody>\n",
       "</table>\n",
       "</div>"
      ],
      "text/plain": [
       "                                   name                         genre  year\n",
       "0  Mondo Sexxxx: The Terry Kobrah Story     [Comedy,, Drama,, Horror]  1980\n",
       "1                                    09                       [Drama]  1980\n",
       "2                            Sin pecado   [Drama,, Fantasy,, Mystery]  1980\n",
       "3                         Paper Ketchup  [Comedy,, Musical,, Romance]  1980\n",
       "4              You Used to Be Beautiful    [Comedy,, Drama,, Romance]  1980"
      ]
     },
     "execution_count": 5,
     "metadata": {},
     "output_type": "execute_result"
    }
   ],
   "source": [
    "df['genre']=df['genre'].map(lambda x: x[2:-1])\n",
    "df.head()"
   ]
  },
  {
   "cell_type": "code",
   "execution_count": 6,
   "metadata": {},
   "outputs": [
    {
     "data": {
      "text/html": [
       "<div>\n",
       "<style scoped>\n",
       "    .dataframe tbody tr th:only-of-type {\n",
       "        vertical-align: middle;\n",
       "    }\n",
       "\n",
       "    .dataframe tbody tr th {\n",
       "        vertical-align: top;\n",
       "    }\n",
       "\n",
       "    .dataframe thead th {\n",
       "        text-align: right;\n",
       "    }\n",
       "</style>\n",
       "<table border=\"1\" class=\"dataframe\">\n",
       "  <thead>\n",
       "    <tr style=\"text-align: right;\">\n",
       "      <th></th>\n",
       "      <th>genre</th>\n",
       "      <th>year</th>\n",
       "    </tr>\n",
       "    <tr>\n",
       "      <th>name</th>\n",
       "      <th></th>\n",
       "      <th></th>\n",
       "    </tr>\n",
       "  </thead>\n",
       "  <tbody>\n",
       "    <tr>\n",
       "      <td>Mondo Sexxxx: The Terry Kobrah Story</td>\n",
       "      <td>[Comedy,, Drama,, Horror]</td>\n",
       "      <td>1980</td>\n",
       "    </tr>\n",
       "    <tr>\n",
       "      <td>09</td>\n",
       "      <td>[Drama]</td>\n",
       "      <td>1980</td>\n",
       "    </tr>\n",
       "    <tr>\n",
       "      <td>Sin pecado</td>\n",
       "      <td>[Drama,, Fantasy,, Mystery]</td>\n",
       "      <td>1980</td>\n",
       "    </tr>\n",
       "    <tr>\n",
       "      <td>Paper Ketchup</td>\n",
       "      <td>[Comedy,, Musical,, Romance]</td>\n",
       "      <td>1980</td>\n",
       "    </tr>\n",
       "    <tr>\n",
       "      <td>You Used to Be Beautiful</td>\n",
       "      <td>[Comedy,, Drama,, Romance]</td>\n",
       "      <td>1980</td>\n",
       "    </tr>\n",
       "  </tbody>\n",
       "</table>\n",
       "</div>"
      ],
      "text/plain": [
       "                                                             genre  year\n",
       "name                                                                    \n",
       "Mondo Sexxxx: The Terry Kobrah Story     [Comedy,, Drama,, Horror]  1980\n",
       "09                                                         [Drama]  1980\n",
       "Sin pecado                             [Drama,, Fantasy,, Mystery]  1980\n",
       "Paper Ketchup                         [Comedy,, Musical,, Romance]  1980\n",
       "You Used to Be Beautiful                [Comedy,, Drama,, Romance]  1980"
      ]
     },
     "execution_count": 6,
     "metadata": {},
     "output_type": "execute_result"
    }
   ],
   "source": [
    "df.set_index('name', inplace=True)\n",
    "df.head()\n"
   ]
  },
  {
   "cell_type": "code",
   "execution_count": 7,
   "metadata": {},
   "outputs": [],
   "source": [
    "def no_comma(genre_movie):\n",
    "    new_genre_movie = []\n",
    "    for i in genre_movie:\n",
    "        if ',' in i:\n",
    "            new_genre_movie.append(i[:-1])\n",
    "        else:\n",
    "            new_genre_movie.append(i)\n",
    "    return new_genre_movie\n"
   ]
  },
  {
   "cell_type": "code",
   "execution_count": 8,
   "metadata": {},
   "outputs": [],
   "source": [
    "df['genre'] = df['genre'].map(lambda x: no_comma(x))"
   ]
  },
  {
   "cell_type": "code",
   "execution_count": 13,
   "metadata": {},
   "outputs": [
    {
     "data": {
      "text/plain": [
       "Index(['genre', 'year'], dtype='object')"
      ]
     },
     "execution_count": 13,
     "metadata": {},
     "output_type": "execute_result"
    }
   ],
   "source": [
    "df.columns"
   ]
  },
  {
   "cell_type": "code",
   "execution_count": 12,
   "metadata": {},
   "outputs": [],
   "source": [
    "df.to_csv('clean_IMDB_popularity.csv', index=True, header=True)"
   ]
  },
  {
   "cell_type": "code",
   "execution_count": null,
   "metadata": {},
   "outputs": [],
   "source": []
  }
 ],
 "metadata": {
  "kernelspec": {
   "display_name": "Python [conda env:learn-env] *",
   "language": "python",
   "name": "conda-env-learn-env-py"
  },
  "language_info": {
   "codemirror_mode": {
    "name": "ipython",
    "version": 3
   },
   "file_extension": ".py",
   "mimetype": "text/x-python",
   "name": "python",
   "nbconvert_exporter": "python",
   "pygments_lexer": "ipython3",
   "version": "3.6.9"
  }
 },
 "nbformat": 4,
 "nbformat_minor": 2
}
